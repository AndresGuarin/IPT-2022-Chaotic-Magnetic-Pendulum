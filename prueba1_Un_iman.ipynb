{
 "cells": [
  {
   "cell_type": "markdown",
   "id": "a96c5e41",
   "metadata": {},
   "source": [
    "# Prueba caso con un solo imán"
   ]
  },
  {
   "cell_type": "markdown",
   "id": "8a5aac1c",
   "metadata": {},
   "source": [
    "## 0. Importación de librerías"
   ]
  },
  {
   "cell_type": "code",
   "execution_count": 1,
   "id": "279bc69e",
   "metadata": {},
   "outputs": [],
   "source": [
    "import time\n",
    "import numpy as np\n",
    "import matplotlib.pyplot as plt\n",
    "\n",
    "from CMPendulum import pendulum as pend, animation as ani, basins as bs"
   ]
  },
  {
   "cell_type": "code",
   "execution_count": 2,
   "id": "4303ddcb",
   "metadata": {},
   "outputs": [
    {
     "name": "stdout",
     "output_type": "stream",
     "text": [
      "Using matplotlib backend: <object object at 0x0000022EDE6FA440>\n",
      "Using matplotlib backend: TkAgg\n"
     ]
    }
   ],
   "source": [
    "%matplotlib auto\n",
    "%matplotlib auto"
   ]
  },
  {
   "cell_type": "markdown",
   "id": "f3c9e1cb",
   "metadata": {},
   "source": [
    "## 1. Analizando energías"
   ]
  },
  {
   "cell_type": "markdown",
   "id": "5f8facd6",
   "metadata": {},
   "source": [
    "### A. Función de gráficas de energía"
   ]
  },
  {
   "cell_type": "code",
   "execution_count": 28,
   "id": "3e67e1a4",
   "metadata": {},
   "outputs": [],
   "source": [
    "# Mechanical energy (only for normal runs)\n",
    "def plot_energy(selfp):\n",
    "    # Pendulum constants\n",
    "    m = selfp.m\n",
    "    d = selfp.d\n",
    "    l = selfp.l\n",
    "    # Positions\n",
    "    X = selfp.X\n",
    "    Y= selfp.Y\n",
    "    Z = - np.sqrt(l**2 - X**2 - Y**2) + (l+d)\n",
    "    # Velocities\n",
    "    Vx = selfp.Vx\n",
    "    Vy = selfp.Vy\n",
    "    Vz = (X*Vx+Y*Vy)/(l+d-Z)\n",
    "    # Mgnetic dipoles constants and vector\n",
    "    m1 = selfp.mu_P_magn\n",
    "    Um1_x = X/l                 # X component  \n",
    "    Um1_y = Y/l                 # Y component \n",
    "    Um1_z = (Z-l-d)/l           # Z component\n",
    "    NINTERVALS = len(selfp.B)   # Number of steps\n",
    "    # Magnetic Fields\n",
    "    Bx = np.array([selfp.B[i][0] for i in range(NINTERVALS)])\n",
    "    By = np.array([selfp.B[i][1] for i in range(NINTERVALS)])\n",
    "    Bz = np.array([selfp.B[i][2] for i in range(NINTERVALS)])\n",
    "    # Potentials\n",
    "    Ug = m*9.8*(Z-d)\n",
    "    Um = -m1 * (Um1_x*Bx + Um1_y*By + Um1_z*Bz)\n",
    "    Um = Um - min(Um)           # Fit the surface of zero-potential\n",
    "    U = Ug+Um\n",
    "    # Kinetic Energy\n",
    "    K = 0.5*m*(Vx**2+Vy**2+Vz**2)\n",
    "    # Plot Energies\n",
    "    plt.figure(figsize=(15,4))\n",
    "    t = np.linspace(0, NINTERVALS*selfp.h, NINTERVALS)\n",
    "    plt.title('Energies of the system', fontsize = 15)\n",
    "    \n",
    "    plt.subplot(131)\n",
    "    plt.plot(t,U,'-',color='orange',label = 'Potential Energy',lw=1.2)\n",
    "    plt.ylabel('Potential Energy [J]', fontsize = 12); plt.xlabel('Time [s]', fontsize = 12)\n",
    "    plt.legend(fontsize=10); plt.xticks(size = 10);  plt.yticks(size = 10)\n",
    "    \n",
    "    plt.subplot(132)\n",
    "    plt.plot(t,K,'-b',label = 'Kinetic Energy',lw=1.2)\n",
    "    plt.ylabel('Kinetic Energy [J]', fontsize = 12); plt.xlabel('Time [s]', fontsize = 12)\n",
    "    plt.legend(fontsize=10); plt.xticks(size = 10);  plt.yticks(size = 10)\n",
    "    \n",
    "    plt.subplot(133)\n",
    "    plt.plot(t,U+K,'-r',label = 'Mechanical Energy',lw=1.0)\n",
    "    plt.ylabel('Mechanical Energy [J]', fontsize = 12); plt.xlabel('Time [s]', fontsize = 12)\n",
    "    plt.ylim(0,max(U)*11/10)\n",
    "    plt.legend(fontsize=10); plt.xticks(size = 10);  plt.yticks(size = 10)"
   ]
  },
  {
   "cell_type": "markdown",
   "id": "2db0b982",
   "metadata": {},
   "source": [
    "### B. Parámetros del código"
   ]
  },
  {
   "cell_type": "code",
   "execution_count": 29,
   "id": "d84bb310",
   "metadata": {},
   "outputs": [],
   "source": [
    "# Physical parameters\n",
    "l = 0.5\n",
    "R = 0\n",
    "d = 0.03\n",
    "m = 0.05\n",
    "mu_P_magn = 2\n",
    "\n",
    "# Code parameters\n",
    "h = 0.001\n",
    "T0 = 2*np.pi*np.sqrt(l/9.8)  # Pendulum period\n",
    "T = 1                       # Total time of simulation\n",
    "N = int(T/h)\n",
    "\n",
    "# Magnets\n",
    "Mx=[0]\n",
    "My=[0]\n",
    "Mz=[0]\n",
    "mu = [-1.4]; u = [np.array([0,0,-1])]\n",
    "\n",
    "# Initial Conditions\n",
    "CI = [0.1, 0.1, 0, 0]"
   ]
  },
  {
   "cell_type": "code",
   "execution_count": 30,
   "id": "38fbf237",
   "metadata": {
    "scrolled": false
   },
   "outputs": [
    {
     "name": "stdout",
     "output_type": "stream",
     "text": [
      "====================== Summary report ============================\n",
      "Physical parameters: \n",
      "   l =  0.5\n",
      "   d =  0.03\n",
      "   R =  0\n",
      "   m =  0.05\n",
      "   mu_P_magn =  2\n",
      "   mu_P_dir  =  [ 0  0 -1]\n",
      "   model =  RK4\n",
      "   law   =  F1\n",
      "==================================================================\n",
      "Code parameters:\n",
      "   h =  0.001\n",
      "   N =  1000\n",
      "==================================================================\n",
      "Initial values\n",
      "   x  =  0.1\n",
      "   y  =  0.1\n",
      "   vx =  0\n",
      "   vy =  0\n",
      "   NMAGNETS =  1\n",
      "   mu_magn  =  [-1.4]\n",
      "   mu_dir   =  [array([ 0,  0, -1])]\n",
      "==================================================================\n",
      "███╗   ███╗ █████╗  ██████╗ ███╗   ██╗███████╗████████╗██╗ ██████╗\n",
      "████╗ ████║██╔══██╗██╔════╝ ████╗  ██║██╔════╝╚══██╔══╝██║██╔════╝\n",
      "██╔████╔██║███████║██║  ███╗██╔██╗ ██║█████╗     ██║   ██║██║     \n",
      "██║╚██╔╝██║██╔══██║██║   ██║██║╚██╗██║██╔══╝     ██║   ██║██║     \n",
      "██║ ╚═╝ ██║██║  ██║╚██████╔╝██║ ╚████║███████╗   ██║   ██║╚██████╗\n",
      "╚═╝     ╚═╝╚═╝  ╚═╝ ╚═════╝ ╚═╝  ╚═══╝╚══════╝   ╚═╝   ╚═╝ ╚═════╝\n",
      "\n",
      "██████╗ ███████╗███╗   ██╗██████╗ ██╗   ██╗██╗     ██╗   ██╗███╗   ███╗\n",
      "██╔══██╗██╔════╝████╗  ██║██╔══██╗██║   ██║██║     ██║   ██║████╗ ████║\n",
      "██████╔╝█████╗  ██╔██╗ ██║██║  ██║██║   ██║██║     ██║   ██║██╔████╔██║\n",
      "██╔═══╝ ██╔══╝  ██║╚██╗██║██║  ██║██║   ██║██║     ██║   ██║██║╚██╔╝██║\n",
      "██║     ███████╗██║ ╚████║██████╔╝╚██████╔╝███████╗╚██████╔╝██║ ╚═╝ ██║\n",
      "╚═╝     ╚══════╝╚═╝  ╚═══╝╚═════╝  ╚═════╝ ╚══════╝ ╚═════╝ ╚═╝     ╚═╝\n",
      "Enter to find_path\n",
      "find_path has ended\n",
      "Tiempo de ejecución: 0.28\n"
     ]
    }
   ],
   "source": [
    "p = pend.pendulum()\n",
    "p.set_pendulum(R=R,l=l,d=d,m=m,mu_P_magn=mu_P_magn)\n",
    "p.set_code_parameters(h, N)\n",
    "p.set_magnets(Mx, My, [0], mu, u)\n",
    "p.set_initial_conditions(CI, 'cartesians')\n",
    "inicio = time.time()\n",
    "p.find_path(show=True, Return='none')\n",
    "fin = time.time(); print('Tiempo de ejecución: %.2f'%(fin-inicio))"
   ]
  },
  {
   "cell_type": "markdown",
   "id": "46143671",
   "metadata": {},
   "source": [
    "### C. Resultados"
   ]
  },
  {
   "cell_type": "code",
   "execution_count": 31,
   "id": "64793e8a",
   "metadata": {},
   "outputs": [],
   "source": [
    "# Get self\n",
    "selfp = p.get_self()"
   ]
  },
  {
   "cell_type": "code",
   "execution_count": 32,
   "id": "026edc1b",
   "metadata": {
    "scrolled": false
   },
   "outputs": [
    {
     "data": {
      "image/png": "[encoded data removed]",
      "text/plain": [
       "<Figure size 432x432 with 1 Axes>"
      ]
     },
     "metadata": {
      "needs_background": "light"
     },
     "output_type": "display_data"
    }
   ],
   "source": [
    "#Plot trajectories\n",
    "%matplotlib inline\n",
    "p.plot_alltable()              \n",
    "p.plot_vector_space(res=20)\n",
    "p.plot_path()"
   ]
  },
  {
   "cell_type": "code",
   "execution_count": 33,
   "id": "4763df2b",
   "metadata": {
    "scrolled": false
   },
   "outputs": [
    {
     "name": "stderr",
     "output_type": "stream",
     "text": [
      "No artists with labels found to put in legend.  Note that artists whose label start with an underscore are ignored when legend() is called with no argument.\n"
     ]
    },
    {
     "name": "stdout",
     "output_type": "stream",
     "text": [
      "Using matplotlib backend: TkAgg\n"
     ]
    }
   ],
   "source": [
    "# Animate path\n",
    "%matplotlib auto\n",
    "ani.animate_path(selfp)\n",
    "plt.show()"
   ]
  },
  {
   "cell_type": "code",
   "execution_count": 24,
   "id": "64c2bbf7",
   "metadata": {},
   "outputs": [
    {
     "name": "stdout",
     "output_type": "stream",
     "text": [
      "Using matplotlib backend: TkAgg\n"
     ]
    }
   ],
   "source": [
    "# Plot potential\n",
    "%matplotlib auto\n",
    "p.plot_potential()"
   ]
  },
  {
   "cell_type": "code",
   "execution_count": 25,
   "id": "d52a324b",
   "metadata": {},
   "outputs": [
    {
     "name": "stdout",
     "output_type": "stream",
     "text": [
      "Using matplotlib backend: TkAgg\n"
     ]
    }
   ],
   "source": [
    "#Plot Energies\n",
    "%matplotlib auto\n",
    "plot_energy(selfp)\n",
    "plt.show()"
   ]
  },
  {
   "cell_type": "markdown",
   "id": "b75a77c6",
   "metadata": {},
   "source": [
    "### D. Explorando resultados"
   ]
  },
  {
   "cell_type": "code",
   "execution_count": 27,
   "id": "2f2d378d",
   "metadata": {},
   "outputs": [],
   "source": [
    "m = selfp.m\n",
    "d = selfp.d\n",
    "l = selfp.l\n",
    "# Positions\n",
    "X = selfp.X\n",
    "Y = selfp.Y\n",
    "Z = - np.sqrt(l**2 - X**2 - Y**2) + (l+d)\n",
    "# Velocities\n",
    "Vx = selfp.Vx\n",
    "Vy = selfp.Vy\n",
    "Vz = (X*Vx+Y*Vy)/(l+d-Z)\n",
    "# Mgnetic dipoles constants and vector\n",
    "m1 = selfp.mu_P_magn\n",
    "Um1_x = X/l                 # X component  \n",
    "Um1_y = Y/l                 # Y component \n",
    "Um1_z = (Z-l-d)/l           # Z component\n",
    "NINTERVALS = len(selfp.B)   # Number of steps\n",
    "# Magnetic Fields\n",
    "Bx = np.array([selfp.B[i][0] for i in range(NINTERVALS)])\n",
    "By = np.array([selfp.B[i][1] for i in range(NINTERVALS)])\n",
    "Bz = np.array([selfp.B[i][2] for i in range(NINTERVALS)])\n",
    "# Potentials\n",
    "Ug = m*9.8*(Z-d)\n",
    "Um = -m1 * (Um1_x*Bx + Um1_y*By + Um1_z*Bz)\n",
    "Um = Um - min(Um)           # Fit the surface of zero-potential\n",
    "U = Ug+Um\n",
    "# Kinetic Energy\n",
    "K = 0.5*m*(Vx**2+Vy**2+Vz**2)\n",
    "# Plot Energies\n",
    "plt.figure(figsize=(6,5))\n",
    "t = np.linspace(0, NINTERVALS*selfp.h, NINTERVALS)\n",
    "plt.title('Energies of the system', fontsize = 15)\n",
    "plt.plot(t,U,'-',color='orange',label = 'Potential Energy',lw=1.2)\n",
    "#plt.plot(t,Um,'--',color='blue',label = 'Magnetic',lw=1.2)\n",
    "#plt.plot(t,Ug,'--',color='red',label = 'Gravitational',lw=1.2)\n",
    "plt.plot(t,K,'-b',label = 'Kinetic Energy',lw=1.2)\n",
    "plt.ylabel('Potential Energy [J]', fontsize = 12); plt.xlabel('Time [s]', fontsize = 12)\n",
    "plt.legend(fontsize=10); plt.xticks(size = 10);  plt.yticks(size = 10)\n",
    "plt.show()"
   ]
  },
  {
   "cell_type": "code",
   "execution_count": 14,
   "id": "edb486f5",
   "metadata": {},
   "outputs": [],
   "source": [
    "plt.figure(figsize=(5,4))\n",
    "ax = plt.axes(projection='3d')\n",
    "ax.plot3D(X,Y,Z,'gray')\n",
    "plt.show()"
   ]
  },
  {
   "cell_type": "code",
   "execution_count": 15,
   "id": "475d8620",
   "metadata": {},
   "outputs": [
    {
     "data": {
      "text/plain": [
       "0.010305518426712176"
      ]
     },
     "execution_count": 15,
     "metadata": {},
     "output_type": "execute_result"
    }
   ],
   "source": [
    "max(U)"
   ]
  },
  {
   "cell_type": "code",
   "execution_count": 16,
   "id": "468df20e",
   "metadata": {},
   "outputs": [
    {
     "data": {
      "text/plain": [
       "0.008889180969523588"
      ]
     },
     "execution_count": 16,
     "metadata": {},
     "output_type": "execute_result"
    }
   ],
   "source": [
    "max(K)"
   ]
  },
  {
   "cell_type": "code",
   "execution_count": 17,
   "id": "69ac1084",
   "metadata": {},
   "outputs": [
    {
     "data": {
      "text/plain": [
       "0.0014163374571885875"
      ]
     },
     "execution_count": 17,
     "metadata": {},
     "output_type": "execute_result"
    }
   ],
   "source": [
    "max(U) - max(K)"
   ]
  },
  {
   "cell_type": "markdown",
   "id": "1f612ff5",
   "metadata": {},
   "source": [
    "**Observaciones:**\n",
    "* Sigue habiendo un bias entre la energía cinética y la potencial\n",
    "* El código funciona bastante bien, solucionando la trayectoria y con las energías correctas"
   ]
  },
  {
   "cell_type": "markdown",
   "id": "2c3536aa",
   "metadata": {},
   "source": [
    "## 2. Analizando energías caso con fricción"
   ]
  },
  {
   "cell_type": "code",
   "execution_count": 35,
   "id": "bcb8e483",
   "metadata": {},
   "outputs": [
    {
     "name": "stdout",
     "output_type": "stream",
     "text": [
      "====================== Summary report ============================\n",
      "Physical parameters: \n",
      "   l =  0.5\n",
      "   d =  0.03\n",
      "   R =  0.01\n",
      "   m =  0.05\n",
      "   mu_P_magn =  2\n",
      "   mu_P_dir  =  [ 0  0 -1]\n",
      "   model =  RK4\n",
      "   law   =  F1\n",
      "==================================================================\n",
      "Code parameters:\n",
      "   h =  0.001\n",
      "   N =  1000\n",
      "==================================================================\n",
      "Initial values\n",
      "   x  =  0.1\n",
      "   y  =  0.1\n",
      "   vx =  0\n",
      "   vy =  0\n",
      "   NMAGNETS =  1\n",
      "   mu_magn  =  [-1.4]\n",
      "   mu_dir   =  [array([ 0,  0, -1])]\n",
      "==================================================================\n",
      "███╗   ███╗ █████╗  ██████╗ ███╗   ██╗███████╗████████╗██╗ ██████╗\n",
      "████╗ ████║██╔══██╗██╔════╝ ████╗  ██║██╔════╝╚══██╔══╝██║██╔════╝\n",
      "██╔████╔██║███████║██║  ███╗██╔██╗ ██║█████╗     ██║   ██║██║     \n",
      "██║╚██╔╝██║██╔══██║██║   ██║██║╚██╗██║██╔══╝     ██║   ██║██║     \n",
      "██║ ╚═╝ ██║██║  ██║╚██████╔╝██║ ╚████║███████╗   ██║   ██║╚██████╗\n",
      "╚═╝     ╚═╝╚═╝  ╚═╝ ╚═════╝ ╚═╝  ╚═══╝╚══════╝   ╚═╝   ╚═╝ ╚═════╝\n",
      "\n",
      "██████╗ ███████╗███╗   ██╗██████╗ ██╗   ██╗██╗     ██╗   ██╗███╗   ███╗\n",
      "██╔══██╗██╔════╝████╗  ██║██╔══██╗██║   ██║██║     ██║   ██║████╗ ████║\n",
      "██████╔╝█████╗  ██╔██╗ ██║██║  ██║██║   ██║██║     ██║   ██║██╔████╔██║\n",
      "██╔═══╝ ██╔══╝  ██║╚██╗██║██║  ██║██║   ██║██║     ██║   ██║██║╚██╔╝██║\n",
      "██║     ███████╗██║ ╚████║██████╔╝╚██████╔╝███████╗╚██████╔╝██║ ╚═╝ ██║\n",
      "╚═╝     ╚══════╝╚═╝  ╚═══╝╚═════╝  ╚═════╝ ╚══════╝ ╚═════╝ ╚═╝     ╚═╝\n",
      "Enter to find_path\n",
      "find_path has ended\n",
      "Tiempo de ejecución: 0.28\n"
     ]
    }
   ],
   "source": [
    "# Physical parameters\n",
    "l = 0.5\n",
    "R = 0.01\n",
    "d = 0.03\n",
    "m = 0.05\n",
    "mu_P_magn = 2\n",
    "\n",
    "# Code parameters\n",
    "h = 0.001\n",
    "T0 = 2*np.pi*np.sqrt(l/9.8)  # Pendulum period\n",
    "T = 1                       # Total time of simulation\n",
    "N = int(T/h)\n",
    "\n",
    "# Magnets\n",
    "Mx=[0]\n",
    "My=[0]\n",
    "Mz=[0]\n",
    "mu = [-1.4]; u = [np.array([0,0,-1])]\n",
    "\n",
    "# Initial Conditions\n",
    "CI = [0.1, 0.1, 0, 0]\n",
    "\n",
    "p = pend.pendulum()\n",
    "p.set_pendulum(R=R,l=l,d=d,m=m,mu_P_magn=mu_P_magn)\n",
    "p.set_code_parameters(h, N)\n",
    "p.set_magnets(Mx, My, [0], mu, u)\n",
    "p.set_initial_conditions(CI, 'cartesians')\n",
    "inicio = time.time()\n",
    "p.find_path(show=True, Return='none')\n",
    "fin = time.time(); print('Tiempo de ejecución: %.2f'%(fin-inicio))\n",
    "\n",
    "# Get self\n",
    "selfp = p.get_self()"
   ]
  },
  {
   "cell_type": "code",
   "execution_count": 37,
   "id": "b817d51c",
   "metadata": {},
   "outputs": [],
   "source": [
    "# Animate path\n",
    "%matplotlib auto\n",
    "ani.animate_path(selfp)\n",
    "plt.show()"
   ]
  },
  {
   "cell_type": "code",
   "execution_count": 39,
   "id": "99725632",
   "metadata": {},
   "outputs": [
    {
     "name": "stdout",
     "output_type": "stream",
     "text": [
      "Using matplotlib backend: TkAgg\n"
     ]
    }
   ],
   "source": [
    "#Plot Energies\n",
    "%matplotlib auto\n",
    "plot_energy(selfp)\n",
    "plt.show()"
   ]
  },
  {
   "cell_type": "markdown",
   "id": "b257dda3",
   "metadata": {},
   "source": [
    "**Observaciones**\n",
    "* Se obtiene una reducción gradual de la energía cinética\n",
    "* El comportamiento es el esperado"
   ]
  }
 ],
 "metadata": {
  "kernelspec": {
   "display_name": "Python 3 (ipykernel)",
   "language": "python",
   "name": "python3"
  },
  "language_info": {
   "codemirror_mode": {
    "name": "ipython",
    "version": 3
   },
   "file_extension": ".py",
   "mimetype": "text/x-python",
   "name": "python",
   "nbconvert_exporter": "python",
   "pygments_lexer": "ipython3",
   "version": "3.10.7"
  }
 },
 "nbformat": 4,
 "nbformat_minor": 5
}
