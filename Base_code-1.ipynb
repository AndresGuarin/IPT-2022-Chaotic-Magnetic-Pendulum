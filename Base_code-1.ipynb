{
 "cells": [
  {
   "cell_type": "markdown",
   "id": "a46fcf3b",
   "metadata": {
    "id": "a46fcf3b"
   },
   "source": [
    "# Simulation Chaotic Magnetic Pendulum"
   ]
  },
  {
   "cell_type": "markdown",
   "id": "4b89180e",
   "metadata": {
    "id": "4b89180e"
   },
   "source": [
    "This code calculates the positions and velocities of the magnetic pendulum using the positions of the arragment of magnets on the table and the initial conditions of this magnetic pendulum. The solution was obtained using the RK4 method. Besides, this code also analysis the data obtaines throw animations of the movement, phase portraits, Liapunov exponents, and basins of atraction.\n",
    "\n",
    "The structure of the code follows the nex points:\n",
    "1. [Create the code to find and animate the trajectories](#section1)\n",
    "    1. Class of magnetic pendulum\n",
    "    2. Animation\n",
    "2. [Run the code and show results](#section2)\n",
    "    1. Find path\n",
    "    2. Plot and animate trajectory\n",
    "3. [Analyse the data](#section3)\n",
    "    1. Phase Portrait\n",
    "    2. Difference of paths and Liapunov exponent\n",
    "    3. Basisns of atraction"
   ]
  },
  {
   "cell_type": "code",
   "execution_count": 1,
   "id": "b8821bf4",
   "metadata": {
    "executionInfo": {
     "elapsed": 6,
     "status": "ok",
     "timestamp": 1650247388267,
     "user": {
      "displayName": "Andrés Guarin",
      "userId": "10643971786942430713"
     },
     "user_tz": 300
    },
    "id": "b8821bf4"
   },
   "outputs": [],
   "source": [
    "from matplotlib import cm  #Color maps\n",
    "from scipy.optimize import curve_fit\n",
    "import numpy as np\n",
    "import matplotlib.pyplot as plt\n",
    "import matplotlib.animation as animation\n",
    "import time"
   ]
  },
  {
   "cell_type": "markdown",
   "id": "03624271",
   "metadata": {
    "id": "03624271"
   },
   "source": [
    "## 1. Create the code to find and animate the trajectories  <a id='section1'></a>"
   ]
  },
  {
   "cell_type": "markdown",
   "id": "bdcc3ffc",
   "metadata": {
    "id": "bdcc3ffc"
   },
   "source": [
    "### A. Class of the magnetic pendulum"
   ]
  },
  {
   "cell_type": "code",
   "execution_count": 2,
   "id": "fc16f717",
   "metadata": {
    "colab": {
     "base_uri": "https://localhost:8080/"
    },
    "executionInfo": {
     "elapsed": 2442,
     "status": "ok",
     "timestamp": 1650246209586,
     "user": {
      "displayName": "Andrés Guarin",
      "userId": "10643971786942430713"
     },
     "user_tz": 300
    },
    "id": "fc16f717",
    "outputId": "922bd0b1-aaba-4c12-e64c-6e34665ef12f"
   },
   "outputs": [
    {
     "name": "stdout",
     "output_type": "stream",
     "text": [
      "Done\n"
     ]
    }
   ],
   "source": [
    "class pendulum:\n",
    "    def __init__(self):\n",
    "        # System dynamics parameters\n",
    "        self.R = 0.01          #friction constant   \n",
    "        self.l = 0.54           #Pendulum length\n",
    "        self.d = 0.03       #vertical distance between pendulum and magnets\n",
    "        self.h = 0.01       #time lapse between each step\n",
    "        self.N = 2000       #total number of steps\n",
    "        self.m = 0.036226       #Mass of the pendulum magnet\n",
    "        self.mu_P_magn = 2       #Magnitude of the magnetic dipole of the pendulum magnet\n",
    "        \n",
    "        # Other parameters\n",
    "        self.sec = 1/self.h #Number of steps that waste one second.\n",
    "        self.Table_SIZE = 0.3\n",
    "        self.NMAGNETS = np.random.randint(low=1,high=8)\n",
    "        self.lim = self.Table_SIZE/2 + 0.04         #Limit of the plots\n",
    "        self.lim_vs = (self.Table_SIZE + 0.05)/2   #Limit plot of vector space\n",
    "        \n",
    "        # Initial velocities\n",
    "        self.vx = 0\n",
    "        self.vy = 0\n",
    "        \n",
    "        # Set initial position randomly    \n",
    "        lm = self.Table_SIZE\n",
    "        self.x = np.random.rand()*lm -lm/2\n",
    "        self.y = np.random.rand()*lm -lm/2\n",
    "              \n",
    "        # Create table\n",
    "        self.Mx = []\n",
    "        self.My = []\n",
    "        for i in range(self.NMAGNETS):\n",
    "            self.Mx.append(np.random.rand()*self.Table_SIZE - self.Table_SIZE/2)\n",
    "            self.My.append(np.random.rand()*self.Table_SIZE - self.Table_SIZE/2)\n",
    "        \n",
    "        # Create dipoles\n",
    "        self.mu = [-1.071875, -2.048, -1.9456, -1.8432, -1.6384, -1.7408, -1.4336]\n",
    "        self.mu_magn = []   # Magnitud of the magnetic dipoles\n",
    "        self.mu_dir = []    # Direction of the magnetic dipoles\n",
    "        self.S = [] \n",
    "        self.mu_NUMS=len(self.mu)\n",
    "        for i in range(self.NMAGNETS): #set the magnetic dipoles to the magnets randomly\n",
    "            \n",
    "            num = np.random.randint(self.mu_NUMS)\n",
    "            mu = self.mu[num]\n",
    "            \n",
    "            self.S.append(np.abs(mu))\n",
    "            self.mu_magn.append(np.abs(mu))\n",
    "            self.mu_dir.append(np.array([0,0,-1])*np.sign(mu)) #The directions are in the z-axis\n",
    "        \n",
    "        self.mu_dir = np.array(self.mu_dir)\n",
    "        self.sign = np.array([self.mu_dir[i][2]*-1 for i in range(self.NMAGNETS)])\n",
    "        \n",
    "        #Finding S values\n",
    "        self.S = np.array(self.S)\n",
    "        self.S = 3*(4*np.pi*10**-7 * self.mu_P_magn) / (4*np.pi * self.m) * self.S\n",
    "    \n",
    "    def set_lim(self, lim):\n",
    "        self.lim = lim\n",
    "    \n",
    "    def set_positions(self,CI, Mx, My):\n",
    "        self.x = CI[0]\n",
    "        self.y = CI[1]\n",
    "        self.vx = CI[2]\n",
    "        self.vy = CI[3]\n",
    "        \n",
    "        self.Mx = Mx\n",
    "        self.My = My\n",
    "        self.NMAGNETS = len(Mx)\n",
    "        \n",
    "    def set_code_parameters(self, m, l, d):\n",
    "        self.m = m     #Mass of the pendulum\n",
    "        self.l = l     #lenght of the pendulum\n",
    "        self.d = d     #Distance between table and pendulum equilibrium position\n",
    "    \n",
    "    def set_magnetic_dipoles(self, mu_P, mu):\n",
    "        self.mu_P_magn = np.abs(mu_P)  #Magnitude of the magnetic dipole\n",
    "        self.mu_magn = np.abs(np.array(mu))\n",
    "        \n",
    "        self.mu_dir = [np.array([0,0,-1])*np.sign(mu[i]) for i in range(self.NMAGNETS)] #Direction magnetic dipoles of table magnets\n",
    "        self.mu_dir = np.array(self.mu_dir)\n",
    "        self.mu_NUMS=len(self.mu_magn)\n",
    "        \n",
    "        #Finding S values\n",
    "        self.S = np.copy(self.mu_magn)\n",
    "        self.S = 3*(4*np.pi*10**-7 * self.mu_P_magn) / (4*np.pi) * self.S\n",
    "    \n",
    "        self.sign = [np.sign(mu[i]) for i in range(self.NMAGNETS)] #If sign is positive there is atraction; if negative, repulsion\n",
    "    \n",
    "    def get_self(self):\n",
    "        return self\n",
    "    \n",
    "    def find_path(self):\n",
    "        # Finding the next steps for each interval\n",
    "        self.X = [self.x]    #X positions\n",
    "        self.Y = [self.y]    #Y positions\n",
    "        self.Vx = [self.vx]  #X velocities\n",
    "        self.Vy = [self.vy]  #Y velocities\n",
    "        self.FB = []         #Arrays of the net magnetic forces\n",
    "        \n",
    "        s=self.sec #Number of steps that waste one second.\n",
    "        A = int(1.2*s) #check point 1\n",
    "        B = int(0.6*s) #check point 2\n",
    "        C = int(0.2*s) #check point 3\n",
    "        Rc = (0.01)**2 #squared Critical distance to stop the calculations. The magnitude is in meters^2\n",
    "        \n",
    "        #Finfing path\n",
    "        for t in range(self.N):\n",
    "            next_val=self.next_value(self.X[t],self.Y[t],self.Vx[t],self.Vy[t])\n",
    "            \n",
    "            self.FB.append(self.FF2)\n",
    "            self.X.append(next_val[0])\n",
    "            self.Y.append(next_val[1])\n",
    "            self.Vx.append(next_val[2])\n",
    "            self.Vy.append(next_val[3])\n",
    "            \n",
    "            if t>5*s:  #This conditional returns true when the time is higher than 5 seconds\n",
    "                if ((self.X[t-A]-self.X[t])**2 + (self.Y[t-A]-self.Y[t])**2 < Rc):\n",
    "                    if ((self.X[t-B]-self.X[t])**2 + (self.Y[t-B]-self.Y[t])**2 < Rc):\n",
    "                        if ((self.X[t-C]-self.X[t])**2 + (self.Y[t-C]-self.Y[t])**2 < Rc):\n",
    "                            break\n",
    "            \n",
    "        # Find the last net magnetic force\n",
    "        aux = self.next_value(self.X[-1],self.Y[-1],self.Vx[-1],self.Vy[-1])\n",
    "        self.FB.append(self.FF1)\n",
    "        \n",
    "        # Converting list to arrays\n",
    "        self.X = np.array(self.X)\n",
    "        self.Y = np.array(self.Y)\n",
    "        self.Vx = np.array(self.Vy)\n",
    "        self.Vy = np.array(self.Vx)\n",
    "        \n",
    "        return self.X, self.Y, self.Vx, self.Vy\n",
    "    \n",
    "    def plot_path(self):\n",
    "        # Plot trajectory\n",
    "        plt.plot(self.X,self.Y,'-b',linewidth=0.5)\n",
    "        \n",
    "        # Initial and final position\n",
    "        plt.plot(self.X[0],self.Y[0],'Dg',label=f'Initial position ({np.round(self.X[0],3)},{np.round(self.Y[0],3)})', markersize=5)\n",
    "        plt.plot(self.X[-1],self.Y[-1],'Dc',label='Final position', markersize=5)\n",
    "        \n",
    "        # Put legends, title, labales, and ticks\n",
    "        plt.legend(fontsize=12)\n",
    "        plt.title('Trajectory of the magnet',fontsize=15)\n",
    "        plt.xlabel('x-axis [m]',fontsize=12)\n",
    "        plt.ylabel('y-axis [m]',fontsize=12)\n",
    "        plt.xticks(fontsize=10)\n",
    "        plt.yticks(fontsize=10)\n",
    "        \n",
    "    def plot_table(self):\n",
    "        \n",
    "        # Plot magnets\n",
    "        plt.figure(figsize=(6,6))\n",
    "        for i in range(self.NMAGNETS):\n",
    "            plt.plot(self.Mx[i],self.My[i],'or')\n",
    "        plt.plot(self.Mx[0],self.My[0],'or',label='Magnets')\n",
    "        \n",
    "        # Plot Table\n",
    "        self.ap = self.Table_SIZE/2 +0.01\n",
    "        plt.plot([-self.ap,-self.ap,self.ap,self.ap,-self.ap],[-self.ap,self.ap,self.ap,-self.ap,-self.ap],'-b',label='Table')\n",
    "        \n",
    "        # Put legends, title, labales, and limits\n",
    "        plt.legend()\n",
    "        plt.title('Positions of magnets')\n",
    "        plt.xlabel('x-axis [m]')\n",
    "        plt.ylabel('y-axis [m]')\n",
    "        plt.xlim(-self.lim,self.lim)\n",
    "        plt.ylim(-self.lim,self.lim) \n",
    "\n",
    "    def plot_vector_space(self,res=20,a=0):\n",
    "        \n",
    "        # Put limits of plot\n",
    "        if a==0:\n",
    "            a=self.lim_vs #Predefined value\n",
    "        elif a > self.l:\n",
    "            a = self.l/2 #Ensure that the points are ploted in the zone inside the spheric pendulum\n",
    "        \n",
    "        # Create data of vector tails\n",
    "        t = np.linspace(-a,a,res)\n",
    "        NUM = len(t)\n",
    "        X, Y = np.meshgrid(t,t)\n",
    "        Z = -np.sqrt(self.l**2 - X**2 - Y**2)+self.l+self.d\n",
    "        \n",
    "        # Finding net magnetic force\n",
    "        Fx = np.zeros((NUM,NUM))\n",
    "        Fy = np.zeros((NUM,NUM))\n",
    "        Fz = np.zeros((NUM,NUM))\n",
    "        \n",
    "        # Unit vector of the magnetic dipole m1 (from Q to P)\n",
    "        M1x = X/self.l                 #X component \n",
    "        M1y = Y/self.l                 #Y component \n",
    "        M1z = (Z-self.l-self.d)/self.l #Z component \n",
    "        \n",
    "        # Iterating over table magnets\n",
    "        for i in range(self.NMAGNETS):\n",
    "            \n",
    "            #Squared distance between magnet i and pendulum magnet\n",
    "            R = (self.Mx[i]-X)**2 + (self.My[i]-Y)**2 + Z**2  \n",
    "            \n",
    "            #Table magnet constants\n",
    "            m2 = self.mu_dir[i]\n",
    "            \n",
    "            #Unit vector from m2 (on table) to m1 (in pendulum)\n",
    "            Ur_x = (X-self.Mx[i])/np.sqrt(R) #X component \n",
    "            Ur_y = (Y-self.My[i])/np.sqrt(R) #Y component \n",
    "            Ur_z = Z/np.sqrt(R)              #Z component \n",
    "            \n",
    "            #Dot products\n",
    "            M12 = M1x*m2[0] + M1y*m2[1] + M1z*m2[2]     #Dot products between m1 and m2\n",
    "            M1r = M1x*Ur_x + M1y*Ur_y + M1z*Ur_z        #Dot products between m1 and ur\n",
    "            M2r = m2[0]*Ur_x + m2[1]*Ur_y + m2[2]*Ur_z  #Dot products between m2 and ur\n",
    "            \n",
    "            #Sum contributions of all magnets\n",
    "            Fx = Fx + self.S[i] / R**2 * ( (M12)*Ur_x + (M2r)*M1x + (M1r)*m2[0] - 5*(M1r)*(M2r)*Ur_x )\n",
    "            Fy = Fy + self.S[i] / R**2 * ( (M12)*Ur_y + (M2r)*M1y + (M1r)*m2[1] - 5*(M1r)*(M2r)*Ur_y )\n",
    "            Fz = Fz + self.S[i] / R**2 * ( (M12)*Ur_z + (M2r)*M1z + (M1r)*m2[0] - 5*(M1r)*(M2r)*Ur_z )\n",
    "        \n",
    "        # Magnitude of the projection of net magnetic force on plane xy\n",
    "        F_xy_mag = np.sqrt(Fx**2 + Fy**2)\n",
    "        \n",
    "        # Finding tension Force\n",
    "        \n",
    "        # Unit vector of tension (from P to Q) \n",
    "        UT_x = -X/self.l                #X component \n",
    "        UT_y = -Y/self.l                #Y component \n",
    "        UT_z = (self.l+self.d-Z)/self.l #Z component \n",
    "        \n",
    "        # Dot product\n",
    "        FbUT = Fx*UT_x + Fy*UT_y + Fz*UT_z  #Dot product between net Fb and UT\n",
    "        \n",
    "        # Finding Tension\n",
    "        Tx = (self.m*9.8*(self.l+self.d-Z)/self.l - FbUT)*UT_x\n",
    "        Ty = (self.m*9.8*(self.l+self.d-Z)/self.l - FbUT)*UT_y\n",
    "        Tz = (self.m*9.8*(self.l+self.d-Z)/self.l - FbUT)*UT_z\n",
    "        \n",
    "        # Magnitude of the projection of tension force on plane xy\n",
    "        T_xy_mag = np.sqrt(Tx**2 + Ty**2)\n",
    "        \n",
    "        # Find force field (refusing friction force)\n",
    "        Field_x = Fx+Tx\n",
    "        Field_y = Fy+Ty\n",
    "        Field_z = Fz+Tz\n",
    "        \n",
    "        # Magnitude of the projection of force field on plane xy\n",
    "        Field_xy_mag = np.sqrt(Field_x**2 + Field_y**2)\n",
    "        \n",
    "        # Plotting vectors\n",
    "        \n",
    "        # Field Forces\n",
    "        plt.quiver(X,Y,Field_x/Field_xy_mag, Field_y/Field_xy_mag, width=0.0025, angles='xy', scale_units='width', scale=36)\n",
    "        \n",
    "        #Magnetic net forces\n",
    "        #plt.quiver(X,Y,Fx/F_xy_mag,Fy/F_xy_mag, linewidths=4, width=0.0025, angles='xy', scale_units='width', scale=39)                \n",
    "        \n",
    "        #Tensions\n",
    "        #plt.quiver(X,Y,Tx/T_xy_mag, Ty/T_xy_mag, linewidths=4, width=0.0025, angles='xy', scale_units='width', scale=37)\n",
    "\n",
    "    \n",
    "    def plot_potential(self,res=20, a=0):\n",
    "        \n",
    "        # Put limits of plot\n",
    "        if a==0:\n",
    "            a = self.lim_vs #predifined value\n",
    "        elif a > self.l:\n",
    "            a = self.l/2 #Ensure that the points are ploted in the zone inside the spheric pendulum\n",
    "        \n",
    "        # Create data of the plot\n",
    "        t = np.linspace(-a,a,res)\n",
    "        NUM = len(t)\n",
    "        X, Y = np.meshgrid(t,t)\n",
    "        Z = -np.sqrt(self.l**2 - X**2 - Y**2)+self.l+self.d\n",
    "\n",
    "        # Finding magnetic field B\n",
    "        Bx = np.zeros((NUM,NUM))\n",
    "        By = np.zeros((NUM,NUM))\n",
    "        Bz = np.zeros((NUM,NUM))\n",
    "        \n",
    "        # Unit vector of the magnetic dipole of m1 (vector from Q to P)\n",
    "        M1x = X/self.l                 #X component\n",
    "        M1y = Y/self.l                 #Y component \n",
    "        M1z = (Z-self.l-self.d)/self.l #Z component \n",
    "        \n",
    "        # Iterating over each table magnet\n",
    "        for i in range(self.NMAGNETS):\n",
    "            \n",
    "            #Squared distance between magnet i and the pendulum magnet\n",
    "            R = (self.Mx[i]-X)**2 + (self.My[i]-Y)**2 + Z**2  \n",
    "            \n",
    "            #Table magnet constants\n",
    "            m2 = self.mu_dir[i]\n",
    "            Cm = -(4*np.pi*10**-7 * self.mu_magn[i]) / (4*np.pi)\n",
    "            \n",
    "            #Unit vector from m2 (on table) to m1 (in pendulum)\n",
    "            Ur_x = (X-self.Mx[i])/np.sqrt(R) #X component\n",
    "            Ur_y = (Y-self.My[i])/np.sqrt(R) #Y component \n",
    "            Ur_z = Z/np.sqrt(R)              #Z component \n",
    "            \n",
    "            #Dot products\n",
    "            M2r = m2[0]*Ur_x + m2[1]*Ur_y + m2[2]*Ur_z  #Dot products between m2 and ur\n",
    "            \n",
    "            #Sum contributions of all magnets\n",
    "            Bx = Bx + Cm/R**(3/2) * (m2[0] - 3*M2r*Ur_x)\n",
    "            By = By + Cm/R**(3/2) * (m2[1] - 3*M2r*Ur_y)\n",
    "            Bz = Bz + Cm/R**(3/2) * (m2[2] - 3*M2r*Ur_z)\n",
    "        \n",
    "        # Finding magnetic potential\n",
    "        \n",
    "        # Unit vector from Q to P (direction of m1)\n",
    "        Um1_x = X/self.l                 #X component  \n",
    "        Um1_y = Y/self.l                 #Y component \n",
    "        Um1_z = (Z-self.l-self.d)/self.l #Z component \n",
    "        \n",
    "        # Pendulum magnet constants\n",
    "        m1 = self.mu_P_magn\n",
    "        \n",
    "        # Magnetic potential\n",
    "        Um = -m1 * (Um1_x*Bx + Um1_y*By + Um1_z*Bz)\n",
    "        \n",
    "        # Finding gravitational potential\n",
    "        Ug = self.m*9.8*(Z-self.d)\n",
    "        \n",
    "        # Plot potential\n",
    "        fig = plt.figure(figsize=(5,4))\n",
    "        ax = plt.axes(projection='3d')\n",
    "        surf = ax.plot_surface(X,Y,Ug+Um, cmap=cm.jet, edgecolor='none')\n",
    "        fig.colorbar(surf,shrink=0.5, aspect=8, pad = 0.15)\n",
    "        \n",
    "        plt.title(f'Potential Energy', fontsize=15)\n",
    "        plt.xlabel(r'X [m]',fontsize=12)\n",
    "        plt.ylabel(r'Y [m]',fontsize=12)\n",
    "        ax.set_zlabel(r'Ug+Um [J]',fontsize=12)\n",
    "        plt.xticks(fontsize=9)\n",
    "        plt.yticks(fontsize=9)\n",
    "        for t in ax.zaxis.get_major_ticks(): t.label.set_fontsize(9)\n",
    "            \n",
    "    def Fk(self,x,y,vx,vy):\n",
    "        \"\"\"\n",
    "        Calculates the velocity and acelerations based on the initial conditions of the magnets \n",
    "        @params\n",
    "        mx, my:\n",
    "            arrays of doubles that contains the position of the magnets\n",
    "        x,y,vx,vy:\n",
    "            doubles of the position and velocity of the pendulum magnet\n",
    "\n",
    "        @returns\n",
    "        vx, vy ,ax, ay:\n",
    "            doubles that contains the velocity and aceleration based on the given inputs\n",
    "        \"\"\" \n",
    "        \n",
    "        # z component of pendulum magnet\n",
    "        z = -np.sqrt(self.l**2-x**2-y**2)+self.l+self.d       \n",
    "        \n",
    "        # Magnetic dipole vector m1 of pendulum magnet.     \n",
    "        \n",
    "        # Vector from Q to P\n",
    "        rqp = np.array([x,y,z-self.l-self.d])\n",
    "        \n",
    "        # Magnetic dipole\n",
    "        m1 = rqp/self.l\n",
    "        \n",
    "        # Finidng the sum of the magnetic forces\n",
    "        Fb = np.array([0,0,0])\n",
    "        for i in range(self.NMAGNETS):\n",
    "            #Squared distance between pendulum and table magnet\n",
    "            r = (self.Mx[i]-x)**2 + (self.My[i]-y)**2 + z**2\n",
    "            \n",
    "            #Magnetic dipole vector of the table magnet\n",
    "            m2 = self.mu_dir[i]\n",
    "            \n",
    "            #Unit vector of relative position (from m2 to m1)\n",
    "            ur = np.array( [x-self.Mx[i], y-self.My[i], z] )/np.sqrt(r) \n",
    "            \n",
    "            #Sum of the forces\n",
    "            Fb = Fb + self.S[i] * ( (m1@m2)*ur + (m2@ur)*m1 + (m1@ur)*m2 - 5*(m1@ur)*(m2@ur)*ur ) / r**2\n",
    "        \n",
    "        # Save the data of the net magnetic force.\n",
    "        self.FF1 = Fb\n",
    "        \n",
    "        # Finding tension\n",
    "        \n",
    "        # Unit vector from P to Q\n",
    "        uT = -rqp/self.l \n",
    "        \n",
    "        # Tension\n",
    "        T = (self.m*9.8*(self.l+self.d-z)/self.l - Fb@uT)*uT\n",
    "        \n",
    "        # Acelerations\n",
    "        ax = (Fb[0] - self.R*vx + T[0])/self.m\n",
    "        ay = (Fb[1] - self.R*vy + T[1])/self.m\n",
    "               \n",
    "        return np.array([vx, vy, ax, ay])\n",
    "\n",
    "    \n",
    "    def next_value(self, x,y,vx,vy):\n",
    "        \"\"\"\n",
    "        Calculates the next positions and velocities after a time lapse of self.h\n",
    "        Find the 4 k-values of the Runge-Kutta method (RK4)\n",
    "        @params\n",
    "        x,y,vx,vy:\n",
    "            doubles of the position and velocity of the pendulum magnet\n",
    "\n",
    "        @returns\n",
    "        xf,yf,vxf,vyf\n",
    "            doubles that contains the final positions and velocities of the pendulum magnet\n",
    "        \"\"\"\n",
    "        \n",
    "        #K1 and calculations\n",
    "        k1 = self.h*self.Fk(x,y,vx,vy)\n",
    "        x1 = x + k1[0]/2\n",
    "        y1 = y + k1[1]/2\n",
    "        vx1 = vx + k1[2]/2\n",
    "        vy1 = vy + k1[3]/2\n",
    "        \n",
    "        #Save magnetic Force\n",
    "        self.FF2 = self.FF1\n",
    "\n",
    "        #K2 and calculations\n",
    "        k2 = self.h*self.Fk(x1,y1,vx1,vy1)\n",
    "        x2 = x + k2[0]/2\n",
    "        y2 = y + k2[1]/2\n",
    "        vx2 = vx + k2[2]/2\n",
    "        vy2 = vy + k2[3]/2\n",
    "\n",
    "        #K3 and calculations\n",
    "        k3 = self.h*self.Fk(x2,y2,vx2,vy2)\n",
    "        x3 = x + k2[0]\n",
    "        y3 = y + k2[1]\n",
    "        vx3 = vx + k2[2]\n",
    "        vy3 = vy + k2[3]\n",
    "\n",
    "        #K4 and calculating final positions\n",
    "        k4 = self.h*self.Fk(x3,y3,vx3,vy3)\n",
    "        xf = x + 1/6*(k1[0] + 2*k2[0] + 2*k3[0] + k4[0])\n",
    "        yf = y + 1/6*(k1[1] + 2*k2[1] + 2*k3[1] + k4[1])\n",
    "        vxf = vx + 1/6*(k1[2] + 2*k2[2] + 2*k3[2] + k4[2])\n",
    "        vyf = vy + 1/6*(k1[3] + 2*k2[3] + 2*k3[3] + k4[3])\n",
    "\n",
    "        return np.array([xf, yf, vxf, vyf])\n",
    "    \n",
    "print('Done')"
   ]
  },
  {
   "cell_type": "markdown",
   "id": "d221d1d0",
   "metadata": {
    "id": "d221d1d0"
   },
   "source": [
    "### B. Animation"
   ]
  },
  {
   "cell_type": "code",
   "execution_count": 3,
   "id": "cab8ad80",
   "metadata": {
    "colab": {
     "base_uri": "https://localhost:8080/"
    },
    "executionInfo": {
     "elapsed": 372,
     "status": "ok",
     "timestamp": 1650245711930,
     "user": {
      "displayName": "Andrés Guarin",
      "userId": "10643971786942430713"
     },
     "user_tz": 300
    },
    "id": "cab8ad80",
    "outputId": "4813b2fe-710d-453a-f43a-b369fb18cdde",
    "scrolled": true
   },
   "outputs": [
    {
     "name": "stdout",
     "output_type": "stream",
     "text": [
      "Done\n"
     ]
    }
   ],
   "source": [
    "def animate_path(self):\n",
    "    \n",
    "    #local function for update each frame\n",
    "    def update(j):\n",
    "        \n",
    "        # Clear the before plot\n",
    "        ax.clear()\n",
    "        \n",
    "        # Plot the trajectories until the interval j\n",
    "        ax.plot(self.X[:j],self.Y[:j],'-b',linewidth=0.5)\n",
    "        ax.plot(self.X[j],self.Y[j],'o',markersize=5,color='b')\n",
    "    \n",
    "        # Plot the magnets\n",
    "        for i in range(self.NMAGNETS):\n",
    "            ax.plot(self.Mx[i],self.My[i],'or',markersize=10)\n",
    "            ax.text(self.Mx[i]-0.02,self.My[i]-0.04,f'{np.round(self.mu_magn[i]*self.sign[i],2)}', fontsize=8)\n",
    "        \n",
    "        # Plot initial and final position\n",
    "        ax.plot(self.X[0],self.Y[0],'Dg',label=f'Initial position ({np.round(self.X[0],3)},{np.round(self.Y[0],3)})', markersize=5)\n",
    "        ax.plot(self.X[-1],self.Y[-1],'Dc',label='Final position', markersize=5)\n",
    "        \n",
    "        # Finding net magnetic Force\n",
    "        FBx = self.FB[j][0]\n",
    "        FBy = self.FB[j][1]\n",
    "        FB_xy_mag = np.sqrt(FBx**2+FBy**2)\n",
    "        \n",
    "        # Plot net magnetic force vector\n",
    "        ax.quiver(self.X[j],self.Y[j],0.25*FBx/FB_xy_mag,0.25*FBy/FB_xy_mag,color='red', label='Net Fb',angles='xy', scale_units='xy', scale=2)\n",
    "        \n",
    "        # Put on legend the Iteration and time of the frame\n",
    "        ax.plot(0,0,'o',markersize=0, label=f'Iteration {j}')\n",
    "        ax.plot(0,0,'o',markersize=0, label=f'Time {np.round(j*self.h,2)}s')\n",
    "        \n",
    "        # Put grids, legends, and limits\n",
    "        plt.grid()\n",
    "        plt.legend()\n",
    "        plt.xlim(-self.lim,self.lim)\n",
    "        plt.ylim(-self.lim,self.lim) \n",
    "    \n",
    "    # Create figure and axis\n",
    "    fig = plt.figure(figsize=(6,6))\n",
    "    ax = fig.gca()\n",
    "    \n",
    "    # Put labels, title, grids, and legend\n",
    "    plt.xlabel('X-axis [m]')\n",
    "    plt.ylabel('Y-axis [m]')\n",
    "    plt.title('Pendulum magnet trajectory')\n",
    "    plt.grid()\n",
    "    plt.legend()\n",
    "    \n",
    "    # Approximately Time per each plot\n",
    "    f = 1/(0.25) \n",
    "    \n",
    "    # Number of intervals that animation show per frame. Higher 'steps' lower the time of animation. steps < N\n",
    "    steps=int(1/(self.h*f)) \n",
    "    \n",
    "    # Number of intervals\n",
    "    N = len(self.X)\n",
    "    \n",
    "    # Animate the movement\n",
    "    self.ani=animation.FuncAnimation(fig,update,range(10,N,steps), repeat=False) \n",
    "    \n",
    "    # Show animation\n",
    "    plt.show()\n",
    "print('Done')"
   ]
  },
  {
   "cell_type": "code",
   "execution_count": 5,
   "id": "dc041426",
   "metadata": {},
   "outputs": [
    {
     "name": "stdout",
     "output_type": "stream",
     "text": [
      "Using matplotlib backend: TkAgg\n"
     ]
    }
   ],
   "source": [
    "%matplotlib auto"
   ]
  },
  {
   "cell_type": "markdown",
   "id": "17fba212",
   "metadata": {
    "id": "17fba212"
   },
   "source": [
    "## 2. Run the code and show results <a id='section2'></a>"
   ]
  },
  {
   "cell_type": "markdown",
   "id": "751e4b56",
   "metadata": {
    "id": "751e4b56"
   },
   "source": [
    "### A. Find path"
   ]
  },
  {
   "cell_type": "code",
   "execution_count": 6,
   "id": "25695127",
   "metadata": {
    "colab": {
     "base_uri": "https://localhost:8080/"
    },
    "executionInfo": {
     "elapsed": 1192,
     "status": "ok",
     "timestamp": 1650246399029,
     "user": {
      "displayName": "Andrés Guarin",
      "userId": "10643971786942430713"
     },
     "user_tz": 300
    },
    "id": "25695127",
    "outputId": "11e790fd-56b9-4562-f3da-a96cca3c2130",
    "scrolled": true
   },
   "outputs": [
    {
     "name": "stdout",
     "output_type": "stream",
     "text": [
      "Time 0.6123785972595215\n",
      "Time 0.409848690032959\n",
      "Time 0.4884779453277588\n",
      "Time 0.3891303539276123\n",
      "Time 0.3949451446533203\n",
      "Time 0.5855345726013184\n",
      "Time 0.43341732025146484\n",
      "Time 0.4353504180908203\n",
      "Time 0.4996936321258545\n",
      "Time 0.44542503356933594\n",
      "Time 0.5810725688934326\n",
      "Time 0.6382930278778076\n"
     ]
    }
   ],
   "source": [
    "# Create pendulums\n",
    "NUM = 12 #Número de pruebas\n",
    "pends = [pendulum() for i in range(NUM)]\n",
    "\n",
    "# Initial conditions\n",
    "CI = [[0.11, -0.11,0,0],[0.11-0.001, -0.11+0.001,0,0],    #Sensibility case 1\n",
    "      [0.14, 0,0,0],[0.14+0.001,0-0.001,0,0],            #case 2  \n",
    "      [0, 0.16,0,0],[0+0.001, 0.16+0.001,0,0],            #case 3\n",
    "      [0.148, 0.115,0,0],[0.148+0.001, 0.115+0.001,0,0],   #case 4\n",
    "      [-0.0318, 0.049,0,0],[-0.0318-0.001, 0.049-0.001, 0,0], #case 5\n",
    "      [-0.0248, -0.002,0,0],[-0.0248+0.001, -0.002+0.001,0,0]] #case 6\n",
    "\n",
    "# Create table\n",
    "radius = 0.10\n",
    "angles = [30, 90, 150, 210, 270, 330]\n",
    "angles = np.deg2rad(np.array(angles))\n",
    "Mx = radius*np.cos(angles)\n",
    "My = radius*np.sin(angles)\n",
    "\n",
    "Mx, My = list(Mx), list(My)\n",
    "Mx.append(0)\n",
    "My.append(0)\n",
    "\n",
    "# Code parameters\n",
    "m = 0.036226  #mass\n",
    "l = 0.54      #pendulum length\n",
    "d = 0.03      #distance between table and pendulum equilibrium position\n",
    "   \n",
    "# Magnetic Dipoles\n",
    "mu_P = 1.84   #magnetic dipole magnitude (pendulum)\n",
    "mu = [2.5]*6 #magnetic dipoles magnitudes (table). Negative for repulsion, positive for atraction\n",
    "mu.append(-2.5)\n",
    "\n",
    "for i in range(NUM):\n",
    "    pends[i].set_positions(CI[i],Mx,My)\n",
    "    pends[i].set_code_parameters(m,l,d)\n",
    "    pends[i].set_magnetic_dipoles(mu_P,mu)\n",
    "    inicio = time.time()\n",
    "    X, Y, Vx, Vy = pends[i].find_path()\n",
    "    fin = time.time()\n",
    "    print('Time',fin-inicio)  \n",
    "\n",
    "# Get self\n",
    "selfs = [pends[i].get_self() for i in range(NUM)]"
   ]
  },
  {
   "cell_type": "markdown",
   "id": "9934931b",
   "metadata": {
    "id": "9934931b"
   },
   "source": [
    "### B. Plot and animate trajectory"
   ]
  },
  {
   "cell_type": "code",
   "execution_count": 7,
   "id": "pPeEmOsZSk5G",
   "metadata": {
    "colab": {
     "base_uri": "https://localhost:8080/",
     "height": 247
    },
    "executionInfo": {
     "elapsed": 2033,
     "status": "ok",
     "timestamp": 1650246404514,
     "user": {
      "displayName": "Andrés Guarin",
      "userId": "10643971786942430713"
     },
     "user_tz": 300
    },
    "id": "pPeEmOsZSk5G",
    "outputId": "4ac16931-0e51-4e43-85e2-6ec5296370cf"
   },
   "outputs": [],
   "source": [
    "# Plot the potential\n",
    "k=0\n",
    "pends[k].plot_potential(res=100) #res=resolution (optional), a=limits of plot (optional)\n",
    "plt.savefig('Hpos_potential.png',dpi=300)"
   ]
  },
  {
   "cell_type": "code",
   "execution_count": 8,
   "id": "iuq9FL4TVzsE",
   "metadata": {
    "colab": {
     "base_uri": "https://localhost:8080/",
     "height": 422
    },
    "executionInfo": {
     "elapsed": 667,
     "status": "ok",
     "timestamp": 1650246408686,
     "user": {
      "displayName": "Andrés Guarin",
      "userId": "10643971786942430713"
     },
     "user_tz": 300
    },
    "id": "iuq9FL4TVzsE",
    "outputId": "3193d503-d037-41e7-fb9b-370eb4c5de07"
   },
   "outputs": [
    {
     "data": {
      "text/plain": [
       "Text(0.5, 1.0, 'Table Magnets')"
      ]
     },
     "execution_count": 8,
     "metadata": {},
     "output_type": "execute_result"
    }
   ],
   "source": [
    "# Plot magnets\n",
    "pends[0].plot_table()\n",
    "Mx = selfs[0].Mx\n",
    "My = selfs[0].My\n",
    "\n",
    "# Plot magnets\n",
    "for i in range(len(Mx)):\n",
    "    plt.plot(Mx[i],My[i],'or')\n",
    "    plt.text(Mx[i]+0.005,My[i]+0.005,f'{i}')\n",
    "\n",
    "# Put limits, labels, legend and title\n",
    "lim = selfs[0].Table_SIZE/2 + 0.04\n",
    "plt.xlim(-lim,lim)\n",
    "plt.ylim(-lim,lim)\n",
    "plt.xlabel('X-axis [m]')\n",
    "plt.ylabel('Y-axis [m]')\n",
    "plt.legend(loc='upper right')\n",
    "plt.title('Table Magnets')"
   ]
  },
  {
   "cell_type": "code",
   "execution_count": 9,
   "id": "3da0fcf9",
   "metadata": {
    "colab": {
     "base_uri": "https://localhost:8080/",
     "height": 801
    },
    "executionInfo": {
     "elapsed": 3427,
     "status": "ok",
     "timestamp": 1650246431772,
     "user": {
      "displayName": "Andrés Guarin",
      "userId": "10643971786942430713"
     },
     "user_tz": 300
    },
    "id": "3da0fcf9",
    "outputId": "f0957052-4be3-403f-aada-31d4a508704b"
   },
   "outputs": [],
   "source": [
    "# Plot the table, trajectory, and vector field.\n",
    "\n",
    "for i in range(10,12):\n",
    "    # Plot table and path\n",
    "    pends[i].plot_table()              \n",
    "    pends[i].plot_path()\n",
    "    plt.savefig(f'Hpos_path_{i+1}.png',dpi=300)\n",
    "\n",
    "    # Plot vector space\n",
    "    pends[i].plot_vector_space(res=30) #res: resolution. Increase to obtain more vectors.\n",
    "    plt.savefig(f'Hpos_vector_space_{i+1}.png',dpi=300)"
   ]
  },
  {
   "cell_type": "code",
   "execution_count": 10,
   "id": "9edcb98f",
   "metadata": {
    "colab": {
     "base_uri": "https://localhost:8080/",
     "height": 392
    },
    "executionInfo": {
     "elapsed": 383,
     "status": "ok",
     "timestamp": 1650246500123,
     "user": {
      "displayName": "Andrés Guarin",
      "userId": "10643971786942430713"
     },
     "user_tz": 300
    },
    "id": "9edcb98f",
    "outputId": "31d1821d-2fdd-4d8a-88dd-1b59de844573",
    "scrolled": false
   },
   "outputs": [
    {
     "name": "stderr",
     "output_type": "stream",
     "text": [
      "No artists with labels found to put in legend.  Note that artists whose label start with an underscore are ignored when legend() is called with no argument.\n"
     ]
    }
   ],
   "source": [
    "# Animate the trajectory\n",
    "k=0\n",
    "pends[k].set_lim(0.25) #Adjust the xlims and ylims of the plot. Increase to see small the set up.\n",
    "animate_path(selfs[k])"
   ]
  },
  {
   "cell_type": "markdown",
   "id": "a2db21cc",
   "metadata": {
    "id": "a2db21cc"
   },
   "source": [
    "## 3. Analyse the data <a id='section3'></a>"
   ]
  },
  {
   "cell_type": "markdown",
   "id": "c831dcc1",
   "metadata": {
    "id": "c831dcc1"
   },
   "source": [
    "### A. Phase Portrait"
   ]
  },
  {
   "cell_type": "code",
   "execution_count": 12,
   "id": "221e0451",
   "metadata": {
    "colab": {
     "base_uri": "https://localhost:8080/",
     "height": 1000
    },
    "executionInfo": {
     "elapsed": 2475,
     "status": "ok",
     "timestamp": 1650246535093,
     "user": {
      "displayName": "Andrés Guarin",
      "userId": "10643971786942430713"
     },
     "user_tz": 300
    },
    "id": "221e0451",
    "outputId": "3e610a39-f430-4825-98ba-0815cf406260"
   },
   "outputs": [],
   "source": [
    "#Phase portrait 3D (x,y,v)\n",
    "\n",
    "for i in range(10,12):\n",
    "    # Get positions and velocity\n",
    "    X=selfs[i].X\n",
    "    Y=selfs[i].Y\n",
    "    Vx=selfs[i].Vx\n",
    "    Vy=selfs[i].Vy\n",
    "    V = np.sqrt(Vx**2+Vy**2)*np.sign(Vy) #With sign\n",
    "\n",
    "    # Create projection 3d\n",
    "    plt.figure()\n",
    "    ax = plt.axes(projection='3d')\n",
    "\n",
    "    # Plot phae portrait\n",
    "    plt.plot(X,Y,V,'-r',linewidth=0.5)\n",
    "\n",
    "    # Put tilte and labels\n",
    "    plt.title(f'Phase portrait path {i+1}', fontsize=15)\n",
    "    plt.xlabel(r'X [m]',fontsize=12)\n",
    "    plt.ylabel(r'Y [m]',fontsize=12)\n",
    "    ax.set_zlabel(r'V sign(Vx) [m/s]',fontsize=12)\n",
    "    plt.xticks(fontsize=9)\n",
    "    plt.yticks(fontsize=9)\n",
    "    for t in ax.zaxis.get_major_ticks(): t.label.set_fontsize(9)\n",
    "    plt.savefig(f'Hpos_phase_portrait_{i+1}.png',dpi=300)\n",
    "    plt.show()\n",
    "\n",
    "    # Time series\n",
    "    plt.figure()\n",
    "\n",
    "    # Create time array\n",
    "    t=np.linspace(0,selfs[i].h*selfs[i].N,len(X))\n",
    "\n",
    "    # Plot time series\n",
    "    plt.plot(t,X,'-b',linewidth=0.5)\n",
    "\n",
    "    # Put the title and labels\n",
    "    plt.title(f'Time series of X path {i+1}',fontsize=15)\n",
    "    plt.xlabel('Time [s]',fontsize=12)\n",
    "    plt.ylabel('X [m]',fontsize=12)\n",
    "    plt.savefig(f'Hpos_time_series_of_X_{i+1}.png',dpi=300)\n",
    "    plt.show()"
   ]
  },
  {
   "cell_type": "code",
   "execution_count": 13,
   "id": "uHoYRdkDXBB6",
   "metadata": {
    "colab": {
     "base_uri": "https://localhost:8080/",
     "height": 267
    },
    "executionInfo": {
     "elapsed": 962,
     "status": "ok",
     "timestamp": 1650246845940,
     "user": {
      "displayName": "Andrés Guarin",
      "userId": "10643971786942430713"
     },
     "user_tz": 300
    },
    "id": "uHoYRdkDXBB6",
    "outputId": "8a3d5dec-7fee-4ee4-cc95-4a89e7f4a5ca"
   },
   "outputs": [],
   "source": [
    "# Superposition\n",
    "plt.figure()\n",
    "ax = plt.axes(projection='3d')\n",
    "colors=['blue','red']*(NUM//2)\n",
    "#colors=['blue','red','green','orange']*3\n",
    "for i in range(10,12):\n",
    "    # Get positions and velocity\n",
    "    X=selfs[i].X\n",
    "    Y=selfs[i].Y\n",
    "    Vx=selfs[i].Vx\n",
    "    Vy=selfs[i].Vy\n",
    "    V = np.sqrt(Vx**2+Vy**2)*np.sign(Vy) #With sign\n",
    "    \n",
    "    # Plot phae portrait\n",
    "    plt.plot(X,Y,V,color=colors[i],linewidth=0.8,label=f'Path {i+1}',alpha=0.9)\n",
    "\n",
    "# Put tilte and labels\n",
    "plt.title('Phase portrait 3D', fontsize=15)\n",
    "plt.xlabel(r'X [m]',fontsize=12)\n",
    "plt.ylabel(r'Y [m]',fontsize=12)\n",
    "plt.legend()\n",
    "ax.set_zlabel(r'V sign(Vx) [m/s]',fontsize=12)\n",
    "plt.xticks(fontsize=9)\n",
    "plt.yticks(fontsize=9)\n",
    "for t in ax.zaxis.get_major_ticks(): t.label.set_fontsize(9)\n",
    "plt.show()\n",
    "plt.savefig(f'Hex_pos_phase_portrait_{i}{i+1}.png',dpi=300)"
   ]
  },
  {
   "cell_type": "markdown",
   "id": "c260bc2e",
   "metadata": {
    "id": "c260bc2e"
   },
   "source": [
    "### B. Difference of paths and Liapunov exponent"
   ]
  },
  {
   "cell_type": "code",
   "execution_count": 14,
   "id": "01a5e332",
   "metadata": {
    "colab": {
     "base_uri": "https://localhost:8080/",
     "height": 300
    },
    "executionInfo": {
     "elapsed": 1361,
     "status": "ok",
     "timestamp": 1650247452264,
     "user": {
      "displayName": "Andrés Guarin",
      "userId": "10643971786942430713"
     },
     "user_tz": 300
    },
    "id": "01a5e332",
    "outputId": "14690e0a-edef-48de-f601-11a31cb305ce"
   },
   "outputs": [],
   "source": [
    "# Differents between paths\n",
    "case=6\n",
    "\n",
    "X1, Y1 = selfs[2*case-2].X, selfs[2*case-2].Y \n",
    "X2, Y2 = selfs[2*case-1].X, selfs[2*case-1].Y\n",
    "\n",
    "# Distance between paths\n",
    "nn = min([len(X1),len(X2)])\n",
    "D=np.sqrt((X1[:nn]-X2[:nn])**2 + ((Y1[:nn]-Y2[:nn])**2))\n",
    "\n",
    "# Time array\n",
    "t=np.linspace(0,selfs[0].h * selfs[0].N ,len(D))\n",
    "\n",
    "plt.figure()\n",
    "\n",
    "# Plot difference vs time\n",
    "#plt.plot(t,D/max(D), label='Distance')\n",
    "plt.plot(t, np.log(D/D[0]), '-b',label='Log distance')\n",
    "\n",
    "# Put labels, title, legend, ticks and grid\n",
    "plt.ylabel('Distance between trajectories [m]', fontsize = 12)\n",
    "plt.xlabel('Time [s]', fontsize = 12)\n",
    "plt.title('Chaotic behaviour, changing 1mm the initial positions', fontsize = 15)\n",
    "plt.legend(fontsize=10, ncol=1)\n",
    "plt.xticks(size = 10)\n",
    "plt.yticks(size = 10)\n",
    "plt.grid(True)\n",
    "\n",
    "# Save image\n",
    "plt.savefig(f'Hpos_diference_trajectories_{2*case-1}{2*case}.png',dpi=300)\n",
    "\n",
    "# Show image\n",
    "plt.show()"
   ]
  },
  {
   "cell_type": "code",
   "execution_count": 91,
   "id": "ESo2an4nY3fF",
   "metadata": {
    "colab": {
     "base_uri": "https://localhost:8080/"
    },
    "executionInfo": {
     "elapsed": 8,
     "status": "ok",
     "timestamp": 1650247273975,
     "user": {
      "displayName": "Andrés Guarin",
      "userId": "10643971786942430713"
     },
     "user_tz": 300
    },
    "id": "ESo2an4nY3fF",
    "outputId": "ac6a2ce0-d673-4eca-a052-77ff3c851473"
   },
   "outputs": [
    {
     "data": {
      "text/plain": [
       "0.8788282290279628"
      ]
     },
     "execution_count": 91,
     "metadata": {},
     "output_type": "execute_result"
    }
   ],
   "source": [
    "len(t)\n",
    "t[37] - t[4]"
   ]
  },
  {
   "cell_type": "code",
   "execution_count": 15,
   "id": "0rcXXCg1Yrw0",
   "metadata": {
    "colab": {
     "base_uri": "https://localhost:8080/",
     "height": 300
    },
    "executionInfo": {
     "elapsed": 564,
     "status": "ok",
     "timestamp": 1650247727115,
     "user": {
      "displayName": "Andrés Guarin",
      "userId": "10643971786942430713"
     },
     "user_tz": 300
    },
    "id": "0rcXXCg1Yrw0",
    "outputId": "35daebe9-2ca6-478b-a819-75a5eaab3344"
   },
   "outputs": [],
   "source": [
    "starts = [71, 17, 0, 0, 0, 4]\n",
    "ends =   [88, 50, 0, 0, 0, 37]\n",
    "\n",
    "start = starts[case-1]\n",
    "end = ends[case-1]\n",
    "\n",
    "def linear(x, m, b):\n",
    "    return x*m + b\n",
    "\n",
    "t_set = t[start:end+1]\n",
    "D_set = D[start:end+1]\n",
    "params, cov = curve_fit(linear, t_set, np.log(D_set/D_set[0]))\n",
    "var = np.sqrt(np.diag(cov))\n",
    "\n",
    "# Plot difference vs time\n",
    "plt.figure()\n",
    "plt.plot(t_set, np.log(D_set/D_set[0]),color='blue', label='Log distance')\n",
    "plt.plot(t_set, linear(t_set, params[0], params[1]), color='orange', label=f'Linear Fit: log(D)={np.round(params[0],2)} t {np.round(params[1],2)}')\n",
    "\n",
    "# Put labels, title, legend, ticks and grid\n",
    "plt.ylabel('Log(D(t) / D0) [dimensionless]', fontsize = 12)\n",
    "plt.xlabel('Time [s]', fontsize = 12)\n",
    "plt.title('Chaotic behaviour, changing 1mm initial positions', fontsize = 15)\n",
    "plt.legend(fontsize=10, ncol=1)\n",
    "plt.xticks(size = 10)\n",
    "plt.yticks(size = 10)\n",
    "\n",
    "xtext = 5/7*(t_set[-1]-t_set[0]) + t_set[0]\n",
    "log_set = np.log(D_set/D_set[0])\n",
    "ytext = 2/6*(max(log_set)-min(log_set)) + min(log_set)\n",
    "\n",
    "plt.text(xtext, ytext, f'lambda = {np.round(params[0],3)}', fontsize=10)\n",
    "plt.grid(True)\n",
    "plt.savefig(f'Hpos_Lyapunov_{2*case-1}{2*case}.png',dpi=300)\n",
    "plt.show()"
   ]
  },
  {
   "cell_type": "code",
   "execution_count": 16,
   "id": "b472620f",
   "metadata": {},
   "outputs": [],
   "source": [
    "plt.figure()\n",
    "t_Ly = np.linspace(t[start], t[end-1],200)\n",
    "y_Ly = D[start]*np.e**(params[0]*(t_Ly)+params[1])\n",
    "\n",
    "plt.plot(t_Ly, y_Ly, '-',label=f'Fit D(t) = {np.round(D[start],4)}e^({np.round(params[0],2)} t - {-np.round(params[1],2)})',linewidth=1.5, color='red', alpha=0.6)\n",
    "\n",
    "#start2 = 121\n",
    "#end2 = 166\n",
    "#t_Ly2 = np.linspace(t[start2], t[end2+2],200)\n",
    "#y_Ly2 = D[start2]*np.e**(params2[0]*(t_Ly2)+params2[1])\n",
    "#plt.plot(t_Ly2, y_Ly2, '-',label=f'Fit 2 D(t) = {np.round(D[start2],4)}e^({np.round(params2[0],2)} t - {-np.round(params2[1],2)})',linewidth=1.5, color='orange', alpha=0.6)\n",
    "plt.plot(t,D,'-b',label='Distance', linewidth=1.5, alpha=0.6)\n",
    "\n",
    "plt.ylabel('D(t) [m]', fontsize = 12)\n",
    "plt.xlabel('Time [s]', fontsize = 12)\n",
    "plt.ylim(-0.0055, 0.24)\n",
    "plt.title('Chaotic behaviour, changing 1mm initial positions', fontsize = 15)\n",
    "plt.legend(fontsize=10, ncol=1, loc='upper left')\n",
    "plt.xticks(size = 10)\n",
    "plt.yticks(size = 10)\n",
    "plt.savefig(f'Hpos_Exponential_divergence_{2*case-1}{2*case}.png',dpi=300)\n",
    "plt.show()"
   ]
  },
  {
   "cell_type": "markdown",
   "id": "c62b7691",
   "metadata": {
    "id": "c62b7691"
   },
   "source": [
    "### C. Basisns of atraction"
   ]
  },
  {
   "cell_type": "code",
   "execution_count": null,
   "id": "2575cf38",
   "metadata": {
    "id": "2575cf38",
    "scrolled": false
   },
   "outputs": [],
   "source": [
    "# Set initial parameters and conditions\n",
    "\n",
    "# Resolution of tha basin of atraction\n",
    "N=20\n",
    "\n",
    "# Get data of initial conditions\n",
    "t=np.linspace(-0.2,0.2,N)\n",
    "mx, my = np.meshgrid(t,t)\n",
    "Mat = np.zeros((N,N,2))\n",
    "\n",
    "# Positions of magnets and magnetic dipoles\n",
    "thett = np.deg2rad(30)\n",
    "Mx = [0.1*np.cos(-thett), 0.1*np.cos(3*thett), 0.1*np.cos(7*thett)]         #Positions table magnets\n",
    "My = [0.1*np.sin(-thett), 0.1*np.sin(3*thett), 0.1*np.sin(7*thett)]  \n",
    "m = 0.036226                   #mass\n",
    "mu_P = 1.84                    #magnetic dipole magnitude (pendulum)\n",
    "mu = [1.94, 1.94, 1.94]  #magnetic dipoles in atraction form (table)"
   ]
  },
  {
   "cell_type": "code",
   "execution_count": null,
   "id": "f228c921",
   "metadata": {
    "colab": {
     "base_uri": "https://localhost:8080/",
     "height": 583
    },
    "executionInfo": {
     "elapsed": 112019,
     "status": "error",
     "timestamp": 1650244659239,
     "user": {
      "displayName": "Andrés Guarin",
      "userId": "10643971786942430713"
     },
     "user_tz": 300
    },
    "id": "f228c921",
    "outputId": "7a8e3702-48e0-4262-c756-9346f00a5fe5",
    "scrolled": false
   },
   "outputs": [
    {
     "name": "stdout",
     "output_type": "stream",
     "text": [
      "[  ] 0/15 2022-04-18 01:15:46\n",
      "[ # ] 1/15 2022-04-18 01:16:05\n",
      "[ ## ] 2/15 2022-04-18 01:16:16\n",
      "[ ### ] 3/15 2022-04-18 01:16:26\n",
      "[ #### ] 4/15 2022-04-18 01:16:44\n",
      "[ ##### ] 5/15 2022-04-18 01:16:52\n",
      "[ ###### ] 6/15 2022-04-18 01:16:59\n",
      "[ ####### ] 7/15 2022-04-18 01:17:07\n",
      "[ ######## ] 8/15 2022-04-18 01:17:20\n",
      "[ ######### ] 9/15 2022-04-18 01:17:30\n"
     ]
    },
    {
     "ename": "KeyboardInterrupt",
     "evalue": "ignored",
     "output_type": "error",
     "traceback": [
      "\u001b[0;31m---------------------------------------------------------------------------\u001b[0m",
      "\u001b[0;31mKeyboardInterrupt\u001b[0m                         Traceback (most recent call last)",
      "\u001b[0;32m<ipython-input-21-8d03ac2cbf53>\u001b[0m in \u001b[0;36m<module>\u001b[0;34m()\u001b[0m\n\u001b[1;32m     27\u001b[0m \u001b[0;34m\u001b[0m\u001b[0m\n\u001b[1;32m     28\u001b[0m         \u001b[0;31m# Find path\u001b[0m\u001b[0;34m\u001b[0m\u001b[0;34m\u001b[0m\u001b[0;34m\u001b[0m\u001b[0m\n\u001b[0;32m---> 29\u001b[0;31m         \u001b[0mX\u001b[0m\u001b[0;34m,\u001b[0m \u001b[0mY\u001b[0m\u001b[0;34m,\u001b[0m \u001b[0mVx\u001b[0m\u001b[0;34m,\u001b[0m \u001b[0mVy\u001b[0m \u001b[0;34m=\u001b[0m \u001b[0mpend\u001b[0m\u001b[0;34m.\u001b[0m\u001b[0mfind_path\u001b[0m\u001b[0;34m(\u001b[0m\u001b[0;34m)\u001b[0m\u001b[0;34m\u001b[0m\u001b[0;34m\u001b[0m\u001b[0m\n\u001b[0m\u001b[1;32m     30\u001b[0m \u001b[0;34m\u001b[0m\u001b[0m\n\u001b[1;32m     31\u001b[0m         \u001b[0;31m# Get Final positions\u001b[0m\u001b[0;34m\u001b[0m\u001b[0;34m\u001b[0m\u001b[0;34m\u001b[0m\u001b[0m\n",
      "\u001b[0;32m<ipython-input-11-71ec19c96ac3>\u001b[0m in \u001b[0;36mfind_path\u001b[0;34m(self)\u001b[0m\n\u001b[1;32m    107\u001b[0m         \u001b[0;31m#Finfing path\u001b[0m\u001b[0;34m\u001b[0m\u001b[0;34m\u001b[0m\u001b[0;34m\u001b[0m\u001b[0m\n\u001b[1;32m    108\u001b[0m         \u001b[0;32mfor\u001b[0m \u001b[0mt\u001b[0m \u001b[0;32min\u001b[0m \u001b[0mrange\u001b[0m\u001b[0;34m(\u001b[0m\u001b[0mself\u001b[0m\u001b[0;34m.\u001b[0m\u001b[0mN\u001b[0m\u001b[0;34m)\u001b[0m\u001b[0;34m:\u001b[0m\u001b[0;34m\u001b[0m\u001b[0;34m\u001b[0m\u001b[0m\n\u001b[0;32m--> 109\u001b[0;31m             \u001b[0mnext_val\u001b[0m\u001b[0;34m=\u001b[0m\u001b[0mself\u001b[0m\u001b[0;34m.\u001b[0m\u001b[0mnext_value\u001b[0m\u001b[0;34m(\u001b[0m\u001b[0mself\u001b[0m\u001b[0;34m.\u001b[0m\u001b[0mX\u001b[0m\u001b[0;34m[\u001b[0m\u001b[0mt\u001b[0m\u001b[0;34m]\u001b[0m\u001b[0;34m,\u001b[0m\u001b[0mself\u001b[0m\u001b[0;34m.\u001b[0m\u001b[0mY\u001b[0m\u001b[0;34m[\u001b[0m\u001b[0mt\u001b[0m\u001b[0;34m]\u001b[0m\u001b[0;34m,\u001b[0m\u001b[0mself\u001b[0m\u001b[0;34m.\u001b[0m\u001b[0mVx\u001b[0m\u001b[0;34m[\u001b[0m\u001b[0mt\u001b[0m\u001b[0;34m]\u001b[0m\u001b[0;34m,\u001b[0m\u001b[0mself\u001b[0m\u001b[0;34m.\u001b[0m\u001b[0mVy\u001b[0m\u001b[0;34m[\u001b[0m\u001b[0mt\u001b[0m\u001b[0;34m]\u001b[0m\u001b[0;34m)\u001b[0m\u001b[0;34m\u001b[0m\u001b[0;34m\u001b[0m\u001b[0m\n\u001b[0m\u001b[1;32m    110\u001b[0m \u001b[0;34m\u001b[0m\u001b[0m\n\u001b[1;32m    111\u001b[0m             \u001b[0mself\u001b[0m\u001b[0;34m.\u001b[0m\u001b[0mFB\u001b[0m\u001b[0;34m.\u001b[0m\u001b[0mappend\u001b[0m\u001b[0;34m(\u001b[0m\u001b[0mself\u001b[0m\u001b[0;34m.\u001b[0m\u001b[0mFF2\u001b[0m\u001b[0;34m)\u001b[0m\u001b[0;34m\u001b[0m\u001b[0;34m\u001b[0m\u001b[0m\n",
      "\u001b[0;32m<ipython-input-11-71ec19c96ac3>\u001b[0m in \u001b[0;36mnext_value\u001b[0;34m(self, x, y, vx, vy)\u001b[0m\n\u001b[1;32m    404\u001b[0m \u001b[0;34m\u001b[0m\u001b[0m\n\u001b[1;32m    405\u001b[0m         \u001b[0;31m#K1 and calculations\u001b[0m\u001b[0;34m\u001b[0m\u001b[0;34m\u001b[0m\u001b[0;34m\u001b[0m\u001b[0m\n\u001b[0;32m--> 406\u001b[0;31m         \u001b[0mk1\u001b[0m \u001b[0;34m=\u001b[0m \u001b[0mself\u001b[0m\u001b[0;34m.\u001b[0m\u001b[0mh\u001b[0m\u001b[0;34m*\u001b[0m\u001b[0mself\u001b[0m\u001b[0;34m.\u001b[0m\u001b[0mFk\u001b[0m\u001b[0;34m(\u001b[0m\u001b[0mx\u001b[0m\u001b[0;34m,\u001b[0m\u001b[0my\u001b[0m\u001b[0;34m,\u001b[0m\u001b[0mvx\u001b[0m\u001b[0;34m,\u001b[0m\u001b[0mvy\u001b[0m\u001b[0;34m)\u001b[0m\u001b[0;34m\u001b[0m\u001b[0;34m\u001b[0m\u001b[0m\n\u001b[0m\u001b[1;32m    407\u001b[0m         \u001b[0mx1\u001b[0m \u001b[0;34m=\u001b[0m \u001b[0mx\u001b[0m \u001b[0;34m+\u001b[0m \u001b[0mk1\u001b[0m\u001b[0;34m[\u001b[0m\u001b[0;36m0\u001b[0m\u001b[0;34m]\u001b[0m\u001b[0;34m/\u001b[0m\u001b[0;36m2\u001b[0m\u001b[0;34m\u001b[0m\u001b[0;34m\u001b[0m\u001b[0m\n\u001b[1;32m    408\u001b[0m         \u001b[0my1\u001b[0m \u001b[0;34m=\u001b[0m \u001b[0my\u001b[0m \u001b[0;34m+\u001b[0m \u001b[0mk1\u001b[0m\u001b[0;34m[\u001b[0m\u001b[0;36m1\u001b[0m\u001b[0;34m]\u001b[0m\u001b[0;34m/\u001b[0m\u001b[0;36m2\u001b[0m\u001b[0;34m\u001b[0m\u001b[0;34m\u001b[0m\u001b[0m\n",
      "\u001b[0;32m<ipython-input-11-71ec19c96ac3>\u001b[0m in \u001b[0;36mFk\u001b[0;34m(self, x, y, vx, vy)\u001b[0m\n\u001b[1;32m    355\u001b[0m \u001b[0;34m\u001b[0m\u001b[0m\n\u001b[1;32m    356\u001b[0m         \u001b[0;31m# Magnetic dipole\u001b[0m\u001b[0;34m\u001b[0m\u001b[0;34m\u001b[0m\u001b[0;34m\u001b[0m\u001b[0m\n\u001b[0;32m--> 357\u001b[0;31m         \u001b[0mm1\u001b[0m \u001b[0;34m=\u001b[0m \u001b[0mrqp\u001b[0m\u001b[0;34m/\u001b[0m\u001b[0mself\u001b[0m\u001b[0;34m.\u001b[0m\u001b[0ml\u001b[0m\u001b[0;34m\u001b[0m\u001b[0;34m\u001b[0m\u001b[0m\n\u001b[0m\u001b[1;32m    358\u001b[0m \u001b[0;34m\u001b[0m\u001b[0m\n\u001b[1;32m    359\u001b[0m         \u001b[0;31m# Finidng the sum of the magnetic forces\u001b[0m\u001b[0;34m\u001b[0m\u001b[0;34m\u001b[0m\u001b[0;34m\u001b[0m\u001b[0m\n",
      "\u001b[0;31mKeyboardInterrupt\u001b[0m: "
     ]
    }
   ],
   "source": [
    "#Find the data of final positions\n",
    "\n",
    "aux=-1\n",
    "inicio = time.time()\n",
    "\n",
    "# Run over each x initial condition\n",
    "for i in range(0,len(mx)):\n",
    "    \n",
    "    # Print the advances of calculations and save the progress\n",
    "    val = i/(N-1)*15\n",
    "    if int(val) != aux:\n",
    "        print('[','#'*int(val), ']',f'{int(val)}/15',time.strftime(\"%Y-%m-%d %H:%M:%S\",time.gmtime()))\n",
    "        aux=int(val)\n",
    "        np.savetxt('Mat_adv_x.csv', Mat[:,:,0], delimiter=',')\n",
    "        np.savetxt('Mat_adv_y.csv', Mat[:,:,0], delimiter=',')\n",
    "    \n",
    "    # Run over each y initial condition\n",
    "    for j in range(0,len(my)):\n",
    "        \n",
    "        # Create pendulum\n",
    "        pend = pendulum()\n",
    "        CI = [mx[i][j],my[i][j],0,0]  #[x,y,vx,vy] initial values.\n",
    "        \n",
    "        # Set initial conditions\n",
    "        pend.set_positions(CI,Mx,My)\n",
    "        pend.set_magnetic_dipoles(mu_P,mu)\n",
    "        \n",
    "        # Find path\n",
    "        X, Y, Vx, Vy = pend.find_path()\n",
    "        \n",
    "        # Get Final positions\n",
    "        Mat[i][j][0] = X[-1]\n",
    "        Mat[i][j][1] = Y[-1]\n",
    "\n",
    "# Save final data\n",
    "np.savetxt('Mat_op_x.csv', Mat[:,:,0], delimiter=',')\n",
    "np.savetxt('Mat_op_y.csv', Mat[:,:,1], delimiter=',')\n",
    "\n",
    "# Show total time\n",
    "fin = time.time()\n",
    "print('Total time ',fin-inicio,'s')"
   ]
  },
  {
   "cell_type": "code",
   "execution_count": null,
   "id": "dc322365",
   "metadata": {
    "id": "dc322365"
   },
   "outputs": [],
   "source": [
    "#Save the data of this specific run\n",
    "selfMat = pend.get_self()\n",
    "np.savetxt(f'Mat_op_x h={selfMat.h} N={selfMat.N}.csv', Mat[:,:,0], delimiter=',')\n",
    "np.savetxt(f'Mat_op_y h={selfMat.h} N={selfMat.N}.csv', Mat[:,:,1], delimiter=',')"
   ]
  },
  {
   "cell_type": "code",
   "execution_count": null,
   "id": "0d4b883e",
   "metadata": {
    "id": "0d4b883e",
    "scrolled": true
   },
   "outputs": [],
   "source": [
    "# Plot image of basin of atraction\n",
    "\n",
    "im = np.zeros((N,N,3))\n",
    "\n",
    "# Colour each pixel (i,j)\n",
    "for i in range(N):\n",
    "    for j in range (N):\n",
    "        \n",
    "        # Find the distances to each magnet (or atractor)\n",
    "        d=[]\n",
    "        for k in range(len(Mx)):\n",
    "            d.append( np.sqrt((Mat[i][j][0] - Mx[k])**2+(Mat[i][j][1]-My[k])**2) )\n",
    "        \n",
    "        # Set the color based on the minimum distance respecting to each magnet\n",
    "        index = d.index(min(d))\n",
    "        im[N-1-i,j, index] = 1\n",
    "\n",
    "# Show figure\n",
    "plt.figure()\n",
    "plt.imshow(im)\n",
    "plt.savefig('Basin of atraction.png',dpi=300)\n",
    "plt.show()"
   ]
  },
  {
   "cell_type": "code",
   "execution_count": null,
   "id": "78069e9b",
   "metadata": {
    "id": "78069e9b"
   },
   "outputs": [],
   "source": [
    "#Plot magnets\n",
    "\n",
    "pend.plot_table()\n",
    "colors = ['or','og','ob']\n",
    "for i in range(len(Mx)):\n",
    "    plt.plot(Mx[i],My[i],colors[i])\n",
    "    plt.text(Mx[i]+0.005,My[i]+0.005,f'{i+1}')\n",
    "    plt.text(Mx[i]-0.02,My[i]-0.02,f'{mu[i]}[Am^2]')\n",
    "\n",
    "# Put the limits, labels, legend, and title\n",
    "plt.xlim(-0.2,0.2)\n",
    "plt.ylim(-0.2,0.2)\n",
    "plt.xlabel('X-axis [m]')\n",
    "plt.ylabel('Y-axis [m]')\n",
    "plt.title('Table Magnets')\n",
    "plt.legend(loc='upper right')\n",
    "plt.show()"
   ]
  },
  {
   "cell_type": "code",
   "execution_count": null,
   "id": "ce67892c",
   "metadata": {
    "id": "ce67892c"
   },
   "outputs": [],
   "source": [
    "# Read data if needed\n",
    "dat = np.genfromtxt('Mat_op_x.csv',delimiter=',')"
   ]
  }
 ],
 "metadata": {
  "colab": {
   "collapsed_sections": [
    "c62b7691"
   ],
   "name": "Pendulum magnets 11 Hexagono posvalidacion.ipynb",
   "provenance": []
  },
  "kernelspec": {
   "display_name": "Python 3 (ipykernel)",
   "language": "python",
   "name": "python3"
  },
  "language_info": {
   "codemirror_mode": {
    "name": "ipython",
    "version": 3
   },
   "file_extension": ".py",
   "mimetype": "text/x-python",
   "name": "python",
   "nbconvert_exporter": "python",
   "pygments_lexer": "ipython3",
   "version": "3.10.5"
  }
 },
 "nbformat": 4,
 "nbformat_minor": 5
}
