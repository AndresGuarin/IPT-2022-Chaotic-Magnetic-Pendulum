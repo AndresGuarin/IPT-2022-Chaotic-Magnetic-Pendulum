{
 "cells": [
  {
   "cell_type": "markdown",
   "id": "a96c5e41",
   "metadata": {},
   "source": [
    "# Pruebas caso base"
   ]
  },
  {
   "cell_type": "markdown",
   "id": "8a5aac1c",
   "metadata": {},
   "source": [
    "## 0. Importación de librerías"
   ]
  },
  {
   "cell_type": "code",
   "execution_count": 1,
   "id": "279bc69e",
   "metadata": {},
   "outputs": [],
   "source": [
    "import time\n",
    "import numpy as np\n",
    "import matplotlib.pyplot as plt\n",
    "\n",
    "from CMPendulum import pendulum as pend, animation as ani, basins as bs"
   ]
  },
  {
   "cell_type": "code",
   "execution_count": 2,
   "id": "4303ddcb",
   "metadata": {},
   "outputs": [
    {
     "name": "stdout",
     "output_type": "stream",
     "text": [
      "Using matplotlib backend: <object object at 0x00000283550FA440>\n",
      "Using matplotlib backend: TkAgg\n"
     ]
    }
   ],
   "source": [
    "%matplotlib auto\n",
    "%matplotlib auto"
   ]
  },
  {
   "cell_type": "markdown",
   "id": "f3c9e1cb",
   "metadata": {},
   "source": [
    "## 1. Analizando energías"
   ]
  },
  {
   "cell_type": "markdown",
   "id": "5f8facd6",
   "metadata": {},
   "source": [
    "### A. Función para graficar energías"
   ]
  },
  {
   "cell_type": "code",
   "execution_count": 42,
   "id": "3e67e1a4",
   "metadata": {},
   "outputs": [],
   "source": [
    "# Get potential and kinetic energy\n",
    "def get_energy(selfp):\n",
    "    # Pendulum constants\n",
    "    m = selfp.m\n",
    "    d = selfp.d\n",
    "    l = selfp.l\n",
    "    # Positions\n",
    "    X = selfp.X\n",
    "    Y= selfp.Y\n",
    "    Z = - np.sqrt(l**2 - X**2 - Y**2) + (l+d)\n",
    "    # Velocities\n",
    "    Vx = selfp.Vx\n",
    "    Vy = selfp.Vy\n",
    "    Vz = (X*Vx+Y*Vy)/(l+d-Z)\n",
    "    # Mgnetic dipoles constants and vector\n",
    "    m1 = selfp.mu_P_magn\n",
    "    Um1_x = X/l                 # X component  \n",
    "    Um1_y = Y/l                 # Y component \n",
    "    Um1_z = (Z-l-d)/l           # Z component\n",
    "    NINTERVALS = len(selfp.B)   # Number of steps\n",
    "    # Magnetic Fields\n",
    "    Bx = np.array([selfp.B[i][0] for i in range(NINTERVALS)])\n",
    "    By = np.array([selfp.B[i][1] for i in range(NINTERVALS)])\n",
    "    Bz = np.array([selfp.B[i][2] for i in range(NINTERVALS)])\n",
    "    # Potentials\n",
    "    Ug = m*9.8*(Z-d)\n",
    "    Um = -m1 * (Um1_x*Bx + Um1_y*By + Um1_z*Bz)\n",
    "    Um = Um - min(Um)           # Fit the surface of zero-potential\n",
    "    U = Ug+Um\n",
    "    # Kinetic Energy\n",
    "    K = 0.5*m*(Vx**2+Vy**2+Vz**2)\n",
    "    return U, Ug, Um, K\n",
    "\n",
    "# Plot energies\n",
    "def plot_energy(selfp):\n",
    "    U, Ug, Um, K = get_energy(selfp)\n",
    "    NINTERVALS = len(selfp.B)   # Number of steps\n",
    "    # Plot Energies\n",
    "    plt.figure(figsize=(15,4))\n",
    "    t = np.linspace(0, NINTERVALS*selfp.h, NINTERVALS)\n",
    "    plt.title('Energies of the system', fontsize = 15)\n",
    "    \n",
    "    plt.subplot(131)\n",
    "    plt.plot(t,U,'-',color='orange',label = 'Potential Energy',lw=1.2)\n",
    "    plt.ylabel('Potential Energy [J]', fontsize = 12); plt.xlabel('Time [s]', fontsize = 12)\n",
    "    plt.legend(fontsize=10); plt.xticks(size = 10);  plt.yticks(size = 10)\n",
    "    \n",
    "    plt.subplot(132)\n",
    "    plt.plot(t,K,'-b',label = 'Kinetic Energy',lw=1.2)\n",
    "    plt.ylabel('Kinetic Energy [J]', fontsize = 12); plt.xlabel('Time [s]', fontsize = 12)\n",
    "    plt.legend(fontsize=10); plt.xticks(size = 10);  plt.yticks(size = 10)\n",
    "    \n",
    "    plt.subplot(133)\n",
    "    plt.plot(t,U+K,'-r',label = 'Mechanical Energy',lw=1.0)\n",
    "    plt.ylabel('Mechanical Energy [J]', fontsize = 12); plt.xlabel('Time [s]', fontsize = 12)\n",
    "    plt.ylim(0,max(U)*11/10)\n",
    "    plt.legend(fontsize=10); plt.xticks(size = 10);  plt.yticks(size = 10)"
   ]
  },
  {
   "cell_type": "markdown",
   "id": "2db0b982",
   "metadata": {},
   "source": [
    "### B. Parámetros del código"
   ]
  },
  {
   "cell_type": "code",
   "execution_count": 27,
   "id": "d84bb310",
   "metadata": {},
   "outputs": [],
   "source": [
    "# Physical parameters\n",
    "l = 0.5\n",
    "R = 0\n",
    "d = 0.01\n",
    "m = 1\n",
    "mu_P_magn = 1\n",
    "\n",
    "# Code parameters\n",
    "h = 0.01\n",
    "T0 = 2*np.pi*np.sqrt(l/9.8)  # Pendulum period\n",
    "T = 1.4                       # Total time of simulation\n",
    "N = int(T/h)\n",
    "\n",
    "\n",
    "# Magnets\n",
    "Mx = [0]; My = [0]\n",
    "mu = [0]; u = [np.array([0,0,-1])]\n",
    "\n",
    "# Initial Conditions\n",
    "CI = [0.1, 0, 0, 0]"
   ]
  },
  {
   "cell_type": "code",
   "execution_count": 28,
   "id": "38fbf237",
   "metadata": {
    "scrolled": false
   },
   "outputs": [
    {
     "name": "stdout",
     "output_type": "stream",
     "text": [
      "====================== Summary report ============================\n",
      "Physical parameters: \n",
      "   l =  0.5\n",
      "   d =  0.01\n",
      "   R =  0\n",
      "   m =  1\n",
      "   mu_P_magn =  1\n",
      "   mu_P_dir  =  [ 0  0 -1]\n",
      "   model =  RK4\n",
      "   law   =  F1\n",
      "==================================================================\n",
      "Code parameters:\n",
      "   h =  0.01\n",
      "   N =  141\n",
      "==================================================================\n",
      "Initial values\n",
      "   x  =  0.1\n",
      "   y  =  0\n",
      "   vx =  0\n",
      "   vy =  0\n",
      "   NMAGNETS =  1\n",
      "   mu_magn  =  [0]\n",
      "   mu_dir   =  [array([ 0,  0, -1])]\n",
      "==================================================================\n",
      "███╗   ███╗ █████╗  ██████╗ ███╗   ██╗███████╗████████╗██╗ ██████╗\n",
      "████╗ ████║██╔══██╗██╔════╝ ████╗  ██║██╔════╝╚══██╔══╝██║██╔════╝\n",
      "██╔████╔██║███████║██║  ███╗██╔██╗ ██║█████╗     ██║   ██║██║     \n",
      "██║╚██╔╝██║██╔══██║██║   ██║██║╚██╗██║██╔══╝     ██║   ██║██║     \n",
      "██║ ╚═╝ ██║██║  ██║╚██████╔╝██║ ╚████║███████╗   ██║   ██║╚██████╗\n",
      "╚═╝     ╚═╝╚═╝  ╚═╝ ╚═════╝ ╚═╝  ╚═══╝╚══════╝   ╚═╝   ╚═╝ ╚═════╝\n",
      "\n",
      "██████╗ ███████╗███╗   ██╗██████╗ ██╗   ██╗██╗     ██╗   ██╗███╗   ███╗\n",
      "██╔══██╗██╔════╝████╗  ██║██╔══██╗██║   ██║██║     ██║   ██║████╗ ████║\n",
      "██████╔╝█████╗  ██╔██╗ ██║██║  ██║██║   ██║██║     ██║   ██║██╔████╔██║\n",
      "██╔═══╝ ██╔══╝  ██║╚██╗██║██║  ██║██║   ██║██║     ██║   ██║██║╚██╔╝██║\n",
      "██║     ███████╗██║ ╚████║██████╔╝╚██████╔╝███████╗╚██████╔╝██║ ╚═╝ ██║\n",
      "╚═╝     ╚══════╝╚═╝  ╚═══╝╚═════╝  ╚═════╝ ╚══════╝ ╚═════╝ ╚═╝     ╚═╝\n",
      "Enter to find_path\n",
      "find_path has ended\n",
      "Tiempo de ejecución: 0.05\n"
     ]
    }
   ],
   "source": [
    "p = pend.pendulum()\n",
    "p.set_pendulum(R=R,l=l,d=d,m=m,mu_P_magn=mu_P_magn)\n",
    "p.set_code_parameters(h, N)\n",
    "p.set_magnets(Mx, My, [0], mu, u)\n",
    "p.set_initial_conditions(CI, 'cartesians')\n",
    "inicio = time.time()\n",
    "p.find_path(show=True, Return='none')\n",
    "fin = time.time(); print('Tiempo de ejecución: %.2f'%(fin-inicio))"
   ]
  },
  {
   "cell_type": "markdown",
   "id": "f5d7f14c",
   "metadata": {},
   "source": [
    "### C. Resultados"
   ]
  },
  {
   "cell_type": "code",
   "execution_count": 29,
   "id": "9c78ffc9",
   "metadata": {},
   "outputs": [],
   "source": [
    "# Get self\n",
    "selfp = p.get_self()"
   ]
  },
  {
   "cell_type": "code",
   "execution_count": 7,
   "id": "026edc1b",
   "metadata": {
    "scrolled": false
   },
   "outputs": [
    {
     "data": {
      "image/png": "[encoded data removed]",
      "text/plain": [
       "<Figure size 432x432 with 1 Axes>"
      ]
     },
     "metadata": {
      "needs_background": "light"
     },
     "output_type": "display_data"
    }
   ],
   "source": [
    "#Plot trajectories\n",
    "%matplotlib inline\n",
    "p.plot_alltable()              \n",
    "p.plot_vector_space(res=20)\n",
    "p.plot_path()"
   ]
  },
  {
   "cell_type": "code",
   "execution_count": 39,
   "id": "27d291de",
   "metadata": {
    "scrolled": false
   },
   "outputs": [],
   "source": [
    "# Animate path\n",
    "%matplotlib auto\n",
    "ani.animate_path(selfp)\n",
    "plt.show()"
   ]
  },
  {
   "cell_type": "code",
   "execution_count": 8,
   "id": "64c2bbf7",
   "metadata": {},
   "outputs": [
    {
     "name": "stdout",
     "output_type": "stream",
     "text": [
      "Using matplotlib backend: TkAgg\n"
     ]
    }
   ],
   "source": [
    "# Plot potential\n",
    "%matplotlib auto\n",
    "p.plot_potential()"
   ]
  },
  {
   "cell_type": "code",
   "execution_count": 43,
   "id": "d52a324b",
   "metadata": {},
   "outputs": [
    {
     "name": "stdout",
     "output_type": "stream",
     "text": [
      "Using matplotlib backend: TkAgg\n"
     ]
    }
   ],
   "source": [
    "#Plot Energies\n",
    "%matplotlib auto\n",
    "plot_energy(selfp)\n",
    "plt.show()"
   ]
  },
  {
   "cell_type": "code",
   "execution_count": 44,
   "id": "edb486f5",
   "metadata": {},
   "outputs": [],
   "source": [
    "# Path 3D\n",
    "plt.figure(figsize=(5,4))\n",
    "ax = plt.axes(projection='3d')\n",
    "ax.plot3D(X,Y,Z,'gray')\n",
    "plt.show()"
   ]
  },
  {
   "cell_type": "markdown",
   "id": "916240fe",
   "metadata": {},
   "source": [
    "### D. Explorando resultados"
   ]
  },
  {
   "cell_type": "code",
   "execution_count": 45,
   "id": "2f2d378d",
   "metadata": {},
   "outputs": [],
   "source": [
    "U, Ug, Um, K = get_energy(selfp)\n",
    "NINTERVALS = len(selfp.B)   # Number of steps\n",
    "# Plot Energies\n",
    "plt.figure(figsize=(6,5))\n",
    "t = np.linspace(0, NINTERVALS*selfp.h, NINTERVALS)\n",
    "plt.title('Energies of the system', fontsize = 15)\n",
    "plt.plot(t,U,'-',color='orange',label = 'Potential Energy',lw=1.2)\n",
    "plt.plot(t,K,'-b',label = 'Kinetic Energy',lw=1.2)\n",
    "plt.plot(t,U+K,'-r',label = 'Mechanical Energy',lw=1.0)\n",
    "plt.ylabel('Potential Energy [J]', fontsize = 12); plt.xlabel('Time [s]', fontsize = 12)\n",
    "plt.legend(fontsize=10); plt.xticks(size = 10);  plt.yticks(size = 10)\n",
    "plt.show()"
   ]
  },
  {
   "cell_type": "markdown",
   "id": "84357d63",
   "metadata": {},
   "source": [
    "### Bias entre energía potencial y cinética\n",
    "Esta diferencia se mantinene aún al variar el parámetro h desde 0.01 hasta 0.0001, posiblemente se debe a la presición del computador."
   ]
  },
  {
   "cell_type": "code",
   "execution_count": 31,
   "id": "ced1e470",
   "metadata": {
    "scrolled": true
   },
   "outputs": [
    {
     "data": {
      "text/plain": [
       "0.09900010414497122"
      ]
     },
     "execution_count": 31,
     "metadata": {},
     "output_type": "execute_result"
    }
   ],
   "source": [
    "max(U)"
   ]
  },
  {
   "cell_type": "code",
   "execution_count": 32,
   "id": "00e2eda7",
   "metadata": {},
   "outputs": [
    {
     "data": {
      "text/plain": [
       "0.09701336569722871"
      ]
     },
     "execution_count": 32,
     "metadata": {},
     "output_type": "execute_result"
    }
   ],
   "source": [
    "max(K)"
   ]
  },
  {
   "cell_type": "code",
   "execution_count": 33,
   "id": "eda620cf",
   "metadata": {},
   "outputs": [
    {
     "data": {
      "text/plain": [
       "0.0019867384477425115"
      ]
     },
     "execution_count": 33,
     "metadata": {},
     "output_type": "execute_result"
    }
   ],
   "source": [
    "max(U) - max(K)"
   ]
  },
  {
   "cell_type": "code",
   "execution_count": null,
   "id": "57a1757b",
   "metadata": {},
   "outputs": [],
   "source": []
  }
 ],
 "metadata": {
  "kernelspec": {
   "display_name": "Python 3 (ipykernel)",
   "language": "python",
   "name": "python3"
  },
  "language_info": {
   "codemirror_mode": {
    "name": "ipython",
    "version": 3
   },
   "file_extension": ".py",
   "mimetype": "text/x-python",
   "name": "python",
   "nbconvert_exporter": "python",
   "pygments_lexer": "ipython3",
   "version": "3.10.7"
  }
 },
 "nbformat": 4,
 "nbformat_minor": 5
}
